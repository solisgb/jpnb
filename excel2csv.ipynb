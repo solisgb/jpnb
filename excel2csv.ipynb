{
 "cells": [
  {
   "cell_type": "markdown",
   "metadata": {},
   "source": [
    "# Varias utilidades con hojas Excel\n",
    "### List of sheets in an Excel file\n",
    "### Excel sheet to csv changing the encoding\n",
    "### Create table (sql) from a dataframe"
   ]
  },
  {
   "cell_type": "code",
   "execution_count": 3,
   "metadata": {},
   "outputs": [],
   "source": [
    "import pandas as pd\n",
    "import numpy as np # to convert types\n",
    "# You can use dtype or convertwers arguments when read the Excel\n",
    "# for example: \n",
    "#      converters={'id': str}\n",
    "#      dtype={'Col1': np.float32, 'Col2': np.int32}"
   ]
  },
  {
   "cell_type": "markdown",
   "metadata": {},
   "source": [
    "## List of sheets in an Excel file"
   ]
  },
  {
   "cell_type": "code",
   "execution_count": 2,
   "metadata": {},
   "outputs": [],
   "source": [
    "fi = r'D:\\IGME20\\20201215_aquifer\\_data\\JLGA_20210217\\CRCC\\CRCC_EIA2017.xlsx'"
   ]
  },
  {
   "cell_type": "code",
   "execution_count": 3,
   "metadata": {},
   "outputs": [
    {
     "name": "stdout",
     "output_type": "stream",
     "text": [
      "VolsFinales\n",
      "DatosCHS\n",
      "Peticiones20170112\n",
      "EIA\n",
      "EIAconDatosCHS\n",
      "Hoja2\n"
     ]
    }
   ],
   "source": [
    "# Remenber you can use dtype or convertwers arguments when read the Excel\n",
    "df = pd.read_excel(fi, \n",
    "                   sheet_name=None, \n",
    "                   engine='openpyxl',\n",
    "                  )\n",
    "for key in df.keys():\n",
    "    print(key)"
   ]
  },
  {
   "cell_type": "markdown",
   "metadata": {},
   "source": [
    "## Excel to csv changing the encoding"
   ]
  },
  {
   "cell_type": "code",
   "execution_count": 45,
   "metadata": {},
   "outputs": [],
   "source": []
  },
  {
   "cell_type": "code",
   "execution_count": 46,
   "metadata": {},
   "outputs": [],
   "source": [
    "# Reads Excel sheet (you can change sheet column types using dtype or converters)\n",
    "df = pd.read_excel(fi, \n",
    "                   sheet_name=sheet_name, \n",
    "                   engine='openpyxl'\n",
    "                  )\n",
    "df.to_csv(fo, index=False, encoding='utf-8')"
   ]
  },
  {
   "cell_type": "markdown",
   "metadata": {},
   "source": [
    "## Write a basic create table command from df "
   ]
  },
  {
   "cell_type": "code",
   "execution_count": 12,
   "metadata": {},
   "outputs": [],
   "source": [
    "fi = r'D:\\IGME20\\20201215_aquifer\\_data\\JLGA_20210217\\CRCC\\CRCC_EIA2017.xlsx'\n",
    "sheet_name = 'EIAconDatosCHS'\n",
    "output = r'D:\\IGME20\\20201215_aquifer\\_data\\JLGA_20210217\\CRCC\\crcc_eia2017.sql'"
   ]
  },
  {
   "cell_type": "code",
   "execution_count": 17,
   "metadata": {},
   "outputs": [],
   "source": [
    "# Remenber you can use dtype or convertwers arguments when read the Excel\n",
    "df = pd.read_excel(fi, sheet_name=sheet_name, engine='openpyxl',\n",
    "                    converters={'cod_igme': str, 'vol_solicitado_m3': float, \n",
    "                                'UTMX': float, 'UTMY': float})"
   ]
  },
  {
   "cell_type": "code",
   "execution_count": 18,
   "metadata": {},
   "outputs": [
    {
     "name": "stdout",
     "output_type": "stream",
     "text": [
      "<class 'pandas.core.frame.DataFrame'>\n",
      "RangeIndex: 252 entries, 0 to 251\n",
      "Data columns (total 17 columns):\n",
      " #   Column             Non-Null Count  Dtype  \n",
      "---  ------             --------------  -----  \n",
      " 0   gid                252 non-null    int64  \n",
      " 1   cod_igme           0 non-null      object \n",
      " 2   nomacu             252 non-null    object \n",
      " 3   expediente         252 non-null    object \n",
      " 4   peticionario       252 non-null    object \n",
      " 5   prov               252 non-null    object \n",
      " 6   tm                 252 non-null    object \n",
      " 7   vol_solicitado_m3  252 non-null    float64\n",
      " 8   vol_corregido_chs  252 non-null    float64\n",
      " 9   captacion          252 non-null    object \n",
      " 10  tipo_en_chs        249 non-null    object \n",
      " 11  prof_m             251 non-null    float64\n",
      " 12  qmax_ls            223 non-null    float64\n",
      " 13  bomba_kw           223 non-null    float64\n",
      " 14  has_atendidas      169 non-null    float64\n",
      " 15  UTMX               252 non-null    float64\n",
      " 16  UTMY               252 non-null    float64\n",
      "dtypes: float64(8), int64(1), object(8)\n",
      "memory usage: 33.6+ KB\n"
     ]
    }
   ],
   "source": [
    "df.info()"
   ]
  },
  {
   "cell_type": "code",
   "execution_count": 19,
   "metadata": {},
   "outputs": [
    {
     "data": {
      "text/html": [
       "<div>\n",
       "<style scoped>\n",
       "    .dataframe tbody tr th:only-of-type {\n",
       "        vertical-align: middle;\n",
       "    }\n",
       "\n",
       "    .dataframe tbody tr th {\n",
       "        vertical-align: top;\n",
       "    }\n",
       "\n",
       "    .dataframe thead th {\n",
       "        text-align: right;\n",
       "    }\n",
       "</style>\n",
       "<table border=\"1\" class=\"dataframe\">\n",
       "  <thead>\n",
       "    <tr style=\"text-align: right;\">\n",
       "      <th></th>\n",
       "      <th>gid</th>\n",
       "      <th>cod_igme</th>\n",
       "      <th>nomacu</th>\n",
       "      <th>expediente</th>\n",
       "      <th>peticionario</th>\n",
       "      <th>prov</th>\n",
       "      <th>tm</th>\n",
       "      <th>vol_solicitado_m3</th>\n",
       "      <th>vol_corregido_chs</th>\n",
       "      <th>captacion</th>\n",
       "      <th>tipo_en_chs</th>\n",
       "      <th>prof_m</th>\n",
       "      <th>qmax_ls</th>\n",
       "      <th>bomba_kw</th>\n",
       "      <th>has_atendidas</th>\n",
       "      <th>UTMX</th>\n",
       "      <th>UTMY</th>\n",
       "    </tr>\n",
       "  </thead>\n",
       "  <tbody>\n",
       "    <tr>\n",
       "      <th>0</th>\n",
       "      <td>1</td>\n",
       "      <td>NaN</td>\n",
       "      <td>Cuaternario</td>\n",
       "      <td>APV-83/2016</td>\n",
       "      <td>ROCA INGLES, FRANCISCO</td>\n",
       "      <td>MURCIA</td>\n",
       "      <td>Fuente Álamo</td>\n",
       "      <td>3000.0</td>\n",
       "      <td>3000.0</td>\n",
       "      <td>A construir</td>\n",
       "      <td>NaN</td>\n",
       "      <td>NaN</td>\n",
       "      <td>NaN</td>\n",
       "      <td>NaN</td>\n",
       "      <td>NaN</td>\n",
       "      <td>659106.0</td>\n",
       "      <td>4174112.0</td>\n",
       "    </tr>\n",
       "    <tr>\n",
       "      <th>1</th>\n",
       "      <td>2</td>\n",
       "      <td>NaN</td>\n",
       "      <td>Plioceno</td>\n",
       "      <td>APV-90/2016</td>\n",
       "      <td>PAREDES PEDREÑO ANDRES</td>\n",
       "      <td>MURCIA</td>\n",
       "      <td>Cartagena</td>\n",
       "      <td>58899.0</td>\n",
       "      <td>58899.0</td>\n",
       "      <td>Existente bombeó en el pasado</td>\n",
       "      <td>Sondeo con desalobradora</td>\n",
       "      <td>90.0</td>\n",
       "      <td>7.0</td>\n",
       "      <td>13.4</td>\n",
       "      <td>19.6329</td>\n",
       "      <td>682212.0</td>\n",
       "      <td>4171578.0</td>\n",
       "    </tr>\n",
       "    <tr>\n",
       "      <th>2</th>\n",
       "      <td>3</td>\n",
       "      <td>NaN</td>\n",
       "      <td>Plioceno</td>\n",
       "      <td>APV-91/2016</td>\n",
       "      <td>INGLES DOMENECH, JOSÉ</td>\n",
       "      <td>MURCIA</td>\n",
       "      <td>Cartagena</td>\n",
       "      <td>50000.0</td>\n",
       "      <td>50000.0</td>\n",
       "      <td>Existente bombeó en el pasado</td>\n",
       "      <td>Sondeo/s*</td>\n",
       "      <td>90.0</td>\n",
       "      <td>5.0</td>\n",
       "      <td>15.0</td>\n",
       "      <td>NaN</td>\n",
       "      <td>684360.0</td>\n",
       "      <td>4171404.0</td>\n",
       "    </tr>\n",
       "  </tbody>\n",
       "</table>\n",
       "</div>"
      ],
      "text/plain": [
       "   gid cod_igme        nomacu    expediente             peticionario     prov  \\\n",
       "0    1      NaN  Cuaternario   APV-83/2016   ROCA INGLES, FRANCISCO   MURCIA    \n",
       "1    2      NaN     Plioceno   APV-90/2016   PAREDES PEDREÑO ANDRES   MURCIA    \n",
       "2    3      NaN     Plioceno   APV-91/2016    INGLES DOMENECH, JOSÉ   MURCIA    \n",
       "\n",
       "              tm  vol_solicitado_m3  vol_corregido_chs  \\\n",
       "0  Fuente Álamo              3000.0             3000.0   \n",
       "1     Cartagena             58899.0            58899.0   \n",
       "2     Cartagena             50000.0            50000.0   \n",
       "\n",
       "                       captacion               tipo_en_chs  prof_m  qmax_ls  \\\n",
       "0                    A construir                       NaN     NaN      NaN   \n",
       "1  Existente bombeó en el pasado  Sondeo con desalobradora    90.0      7.0   \n",
       "2  Existente bombeó en el pasado                 Sondeo/s*    90.0      5.0   \n",
       "\n",
       "   bomba_kw  has_atendidas      UTMX       UTMY  \n",
       "0       NaN            NaN  659106.0  4174112.0  \n",
       "1      13.4        19.6329  682212.0  4171578.0  \n",
       "2      15.0            NaN  684360.0  4171404.0  "
      ]
     },
     "execution_count": 19,
     "metadata": {},
     "output_type": "execute_result"
    }
   ],
   "source": [
    "df.head(3)"
   ]
  },
  {
   "cell_type": "code",
   "execution_count": 42,
   "metadata": {},
   "outputs": [],
   "source": [
    "table_name = 'crcc_eia2017'\n",
    "ident = ' ' * 4"
   ]
  },
  {
   "cell_type": "code",
   "execution_count": 43,
   "metadata": {},
   "outputs": [
    {
     "name": "stdout",
     "output_type": "stream",
     "text": [
      "OK, all df.dtypes are in convert_types\n"
     ]
    }
   ],
   "source": [
    "# Relationship between current types anf postgres types\n",
    "# For a specific column conversion (for example object to integer), do that when the Excel is read)\n",
    "convert_types={'object':'varchar', 'int64': 'integer', 'float64': 'real'}\n",
    "db_types = [convert_types[str(type1)] for type1 in df.dtypes if str(type1) in convert_types]\n",
    "if len(df.dtypes) == len(db_types):\n",
    "    print('OK, all df.dtypes are in convert_types')\n",
    "else:\n",
    "    for type1 in df.dtypes:\n",
    "        if type1 not in convert_types:\n",
    "            print(f'{type1} has not a db type, check convert_types')"
   ]
  },
  {
   "cell_type": "code",
   "execution_count": 44,
   "metadata": {},
   "outputs": [
    {
     "name": "stdout",
     "output_type": "stream",
     "text": [
      "Go to D:\\IGME20\\20201215_aquifer\\_data\\JLGA_20210217\\CRCC\\crcc_eia2017.sql\n",
      "and review it\n"
     ]
    }
   ],
   "source": [
    "# write sql output file to creata the table\n",
    "columns = [f'{ident}{column1} {type1}' for column1, type1 in zip(df.columns, db_types)]\n",
    "columns = ',\\n'.join(columns)\n",
    "with open(output, 'w') as fo:\n",
    "    fo.write(f'create table {table_name} (\\n')\n",
    "    fo.write(f'{columns}')\n",
    "    fo.write('\\n);\\n')\n",
    "print(f'Go to {output}\\nand review it')"
   ]
  }
 ],
 "metadata": {
  "kernelspec": {
   "display_name": "Python 3",
   "language": "python",
   "name": "python3"
  },
  "language_info": {
   "codemirror_mode": {
    "name": "ipython",
    "version": 3
   },
   "file_extension": ".py",
   "mimetype": "text/x-python",
   "name": "python",
   "nbconvert_exporter": "python",
   "pygments_lexer": "ipython3",
   "version": "3.8.5"
  }
 },
 "nbformat": 4,
 "nbformat_minor": 4
}
