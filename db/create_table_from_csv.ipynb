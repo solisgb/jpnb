{
 "cells": [
  {
   "cell_type": "markdown",
   "id": "1f9b9583-a1fe-49c5-beca-16d8a3029144",
   "metadata": {},
   "source": [
    "# Create table from csv files (basic)\n",
    "Lee una serie de ficheros csv con los datos que se desean importar a nuevas tablas (una tabla para cada csv)<br>\n",
    "__Uso__\n",
    "1. Asignar valor a los parámetros \n",
    "1. Ejecutar la función tables_columns_2_rename"
   ]
  },
  {
   "cell_type": "code",
   "execution_count": 5,
   "id": "460d44af-f719-45cc-a6bb-80e95c30c178",
   "metadata": {},
   "outputs": [],
   "source": [
    "import csv\n",
    "import glob\n",
    "import os\n",
    "from os.path import join\n"
   ]
  },
  {
   "cell_type": "markdown",
   "id": "7fb5684c-d4cf-49be-b662-043c841174a5",
   "metadata": {
    "tags": []
   },
   "source": [
    "## Functions"
   ]
  },
  {
   "cell_type": "code",
   "execution_count": 10,
   "id": "ad85e8ae-5497-43ac-be84-33a69238e5ab",
   "metadata": {
    "jupyter": {
     "source_hidden": true
    },
    "tags": []
   },
   "outputs": [],
   "source": [
    "def tables_columns_2_rename(drt: str, mask: str, to_screen: bool=False) -> [[str], [str]]:\n",
    "    \"\"\"\n",
    "    Escribe el nombre de todas las tablas en drt/mask para ser renombradas como nombre de las tablas\n",
    "    Extrae la cabecera de cada fichero csv y escribe en un fichero todas la cabeceras para que sean\n",
    "    renombradas como las columnas de las tablas\n",
    "    ----\n",
    "    drt: directorio de los ficheros csv y de los ficheros de resultados\n",
    "    mask: para seleccionar los ficheros a tratar, po ej *.csv\n",
    "    ---\n",
    "    return [name_tables, name_columns]\n",
    "    name_tables: nombres de los ficheros\n",
    "    name_columns: nombres de las columnas\n",
    "    \"\"\"\n",
    "    files = glob.glob(join(drt, mask))\n",
    "    name_tables = []\n",
    "    name_columns = []\n",
    "\n",
    "    for file in files:\n",
    "        with open(file, mode='r', encoding='utf-8') as fi:\n",
    "            rfi = csv.reader(fi, delimiter=',')\n",
    "            table_name, _ = os.path.basename(file).split('.')\n",
    "            name_tables.append(table_name)\n",
    "            for ir, row in enumerate(rfi):\n",
    "                if to_screen:\n",
    "                    print(table_name)\n",
    "                    print(row)\n",
    "                    print('')\n",
    "                for col1 in row:\n",
    "                    if col1 not in name_columns:\n",
    "                        name_columns.append(col1)\n",
    "                break\n",
    "\n",
    "    return name_tables, name_columns\n",
    "\n",
    "\n",
    "def sets_get():\n",
    "    \"\"\"\n",
    "    valores de los parámetros para escribir en el fichero sql donde se crean las tablas\n",
    "    \"\"\"\n",
    "    sets = \\\n",
    "\"\"\"\n",
    "-- PostgreSQL database dump\n",
    "\n",
    "SET statement_timeout = 0;\n",
    "SET lock_timeout = 0;\n",
    "SET idle_in_transaction_session_timeout = 0;\n",
    "SET client_encoding = 'UTF8';\n",
    "SET standard_conforming_strings = on;\n",
    "SELECT pg_catalog.set_config('search_path', '', false);\n",
    "SET check_function_bodies = false;\n",
    "SET xmloption = content;\n",
    "SET client_min_messages = warning;\n",
    "SET row_security = off;\n",
    "\n",
    "SET default_tablespace = '';\n",
    "\n",
    "SET default_table_access_method = heap;\n",
    "\n",
    "\"\"\"    \n",
    "    return sets\n",
    "    \n",
    "    \n",
    "def create_table_sql(table_name, col_names, schema = ''):\n",
    "    cols = [col1 + ' varchar' for col1 in col_names]\n",
    "    cols = ',\\n'.join(cols)\n",
    "    if len(schema) > 0:\n",
    "        schema = schema + '.'\n",
    "    comment = f\"comment on table {schema}{table_name} is 'CHJ Plan Hidrológico 21-27 {table_name}';\\n\"\n",
    "    comment = comment.replace('_', ' ')\n",
    "    \n",
    "    comment_columns = [f\"comment on columnn {schema}{table_name}.{col1} is '{col1}';\" for col1 in col_names]\n",
    "    comment_columns = '\\n'.join(comment_columns)\n",
    "    \n",
    "    command = f\"\"\"\n",
    "create table if not exists {schema}{table_name} (\n",
    "{cols}    \n",
    ");\n",
    "\n",
    "{comment}\n",
    "{comment_columns}\n",
    "    \"\"\"\n",
    "    return command"
   ]
  },
  {
   "cell_type": "markdown",
   "id": "f97a163f-f5c4-455b-9380-34bdb8252751",
   "metadata": {},
   "source": [
    "## Set parameter values"
   ]
  },
  {
   "cell_type": "code",
   "execution_count": 33,
   "id": "be60561e-6a1b-4b49-ae02-4ca97ee9201d",
   "metadata": {
    "tags": []
   },
   "outputs": [],
   "source": [
    "# directorio y expression to get csv files\n",
    "drt = r'E:\\PPHH\\chj_22_27\\tablas'\n",
    "mask = '*.csv'\n",
    "\n",
    "# file_name_tables: nombre del fichero donde se grabarán el nombre d elas tablas\n",
    "file_name_tables = join(drt, '01_table_names.txt')\n",
    "# file_name_columns: nombre del fichero donde se grabarán el nombre de las columnas \n",
    "file_name_columns = join(drt, '02_colum_names.txt')\n",
    "\n",
    "# fo_name: nombre del fichero donde se grabarán los comandos parara creación de las tablas\n",
    "fo_name = join(drt, '03_create_tables.sql')\n",
    "\n",
    "# schema: nombre del esquema de la DB donde se crearán las tablas\n",
    "schema = 'tmp'\n"
   ]
  },
  {
   "cell_type": "markdown",
   "id": "c5cf759f-aef5-4fb3-8a36-3e3990fcd215",
   "metadata": {},
   "source": [
    "## Function 1. Write names of files and columns\n",
    "Después de crearse el fichero deben darse los nuevos nobres manualmente en el fichero"
   ]
  },
  {
   "cell_type": "code",
   "execution_count": 34,
   "id": "98d89b6e-181c-4771-9b4b-79ed19df2a40",
   "metadata": {},
   "outputs": [],
   "source": [
    "tables, columns = tables_columns_2_rename(drt, mask)\n",
    "\n",
    "with open(file_name_tables, 'w', encoding='utf-8') as fo:\n",
    "    fo.write('name,new_name\\n')\n",
    "    for t1 in tables:\n",
    "        fo.write(f'{t1},\\n')\n",
    "\n",
    "with open(file_name_columns, 'w', newline='', encoding='utf-8') as fo:\n",
    "    fo.write('name,new_name\\n')\n",
    "    for c1 in columns:\n",
    "        fo.write(f'{c1},\\n')\n"
   ]
  },
  {
   "cell_type": "code",
   "execution_count": 12,
   "id": "6c6293d0-d0cd-44a1-b136-de2624b96a6c",
   "metadata": {},
   "outputs": [
    {
     "data": {
      "text/plain": [
       "['anejo12_Tabla_121_Recurso_disponible',\n",
       " 'anejo12_Tabla_122_bombeo_ie',\n",
       " 'anejo12_Tabla_117_facies_hidroquimicas',\n",
       " 'anejo12_Tabla_123_test1_balance',\n",
       " 'anejo12_Tabla_124_test2_msf_cuanti',\n",
       " 'anejo12_Tabla_127_test3_edas',\n",
       " 'anejo12_Tabla_130_test4_intrusion_marina',\n",
       " 'anejo12_Tabla_131_tests_mal_estado_gobal',\n",
       " 'anejo12_Tabla_134_test_1_general_estado_quimico',\n",
       " 'anejo12_Tabla_136_test_3_msf_quimico',\n",
       " 'anejo12_Tabla_137_test 4_EDAS_quimico',\n",
       " 'anejo12_Tabla_140_test 5_zonas_protegidas_quimico',\n",
       " 'anejo12_Tabla_141_tests_mal_estado_quimico_representativo',\n",
       " 'anejo12_Tabla_142_estado_global',\n",
       " 'anejo12_Tabla_116_litologias']"
      ]
     },
     "execution_count": 12,
     "metadata": {},
     "output_type": "execute_result"
    }
   ],
   "source": [
    "tables"
   ]
  },
  {
   "cell_type": "code",
   "execution_count": null,
   "id": "a1e79cbd-1eae-4e02-a873-c99880bff7ed",
   "metadata": {},
   "outputs": [],
   "source": [
    "files = glob.glob(join(drt, mask))\n",
    "with open(fo_name, 'w') as fo:\n",
    "    fo.write(sets_get())\n",
    "    for file in files:\n",
    "        with open(file, mode='r', encoding='utf-8') as fi:\n",
    "            rfi = csv.reader(fi, delimiter=',')\n",
    "            table_name, _ = os.path.basename(file).split('.')\n",
    "            for ir, row in enumerate(rfi):\n",
    "                print(table_name)\n",
    "                print(row)\n",
    "                print('')\n",
    "                sql_command = create_table_sql(table_name, row, schema = schema)\n",
    "                break\n",
    "            fo.write(f'{sql_command}\\n\\n')"
   ]
  }
 ],
 "metadata": {
  "kernelspec": {
   "display_name": "Python 3 (ipykernel)",
   "language": "python",
   "name": "python3"
  },
  "language_info": {
   "codemirror_mode": {
    "name": "ipython",
    "version": 3
   },
   "file_extension": ".py",
   "mimetype": "text/x-python",
   "name": "python",
   "nbconvert_exporter": "python",
   "pygments_lexer": "ipython3",
   "version": "3.8.13"
  }
 },
 "nbformat": 4,
 "nbformat_minor": 5
}
