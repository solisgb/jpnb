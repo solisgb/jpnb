{
 "cells": [
  {
   "cell_type": "code",
   "execution_count": 3,
   "metadata": {},
   "outputs": [],
   "source": [
    "import matplotlib.pyplot as plt\n",
    "import numpy as np\n",
    "from scipy import stats\n",
    "%matplotlib inline"
   ]
  },
  {
   "cell_type": "markdown",
   "metadata": {},
   "source": [
    "Your project is about to drill in two formations. The distribution of thikness is N(10, 2) m for unit A and N(24, 4) for unit B. The thiknesses of both formations are independent<br>.\n",
    "What is the mean and variance of tte total thikness of reservoir units that uou asset team should forecast for productions planning/facilities?"
   ]
  },
  {
   "cell_type": "code",
   "execution_count": null,
   "metadata": {},
   "outputs": [],
   "source": [
    "Amean = 10\n",
    "Ast = 2\n",
    "Alower1, Aupper1 = 5, 15\n",
    "xA = stats.truncnorm((Alower - Amean) / Ast, (Aupper - Amean) / Ast, loc=Amean, scale=Ast)\n",
    "\n",
    "Bmean = 24\n",
    "Bsdev = 4\n",
    "Blower, Bupper = 2.5, 45"
   ]
  },
  {
   "cell_type": "code",
   "execution_count": null,
   "metadata": {},
   "outputs": [],
   "source": [
    "pdf1 = norm.pdf(loc=Amean, scale=Astd)\n",
    "pdf2 = norm.pdf(loc=Bmean, scale=Bstd)\n",
    "\n",
    "fig, (ax1, ax2) = plt.subplots(1, 2, figsize=(8, 4.8))\n",
    "ax1.plot(porosity, pdf1, 'o', color='blue')\n",
    "ax1.plot(x2, pdf2, color='red')\n",
    "ax1.grid()\n",
    "\n",
    "ax2.plot(porosity, cdf1, 'o', color='blue')\n",
    "ax2.plot(x2, cdf2, color='red')\n",
    "ax2.grid()"
   ]
  },
  {
   "cell_type": "code",
   "execution_count": null,
   "metadata": {},
   "outputs": [],
   "source": [
    "cdf1 = norm.ddf(loc=Amean, scale=Astd)\n",
    "cdf2 = norm.cdf(loc=Bmean, scale=Bstd)\n"
   ]
  },
  {
   "cell_type": "code",
   "execution_count": 4,
   "metadata": {},
   "outputs": [],
   "source": [
    "rng = np.random.default_rng(12345)"
   ]
  },
  {
   "cell_type": "code",
   "execution_count": 6,
   "metadata": {},
   "outputs": [],
   "source": [
    "\n",
    "A = [norm.ppf(rng.random(), loc = Amean, scale= Asdev) for x in np.linspace(0.001, 0.999, 500)]"
   ]
  },
  {
   "cell_type": "code",
   "execution_count": 7,
   "metadata": {},
   "outputs": [],
   "source": [
    "Bmean = 24\n",
    "Bsdev = 4\n",
    "B = [norm.ppf(rng.random(), loc = Bmean, scale= Bsdev) for x in np.linspace(0.001, 0.999, 500)]"
   ]
  },
  {
   "cell_type": "code",
   "execution_count": 8,
   "metadata": {},
   "outputs": [],
   "source": [
    "C = A + B"
   ]
  },
  {
   "cell_type": "code",
   "execution_count": 12,
   "metadata": {},
   "outputs": [
    {
     "name": "stdout",
     "output_type": "stream",
     "text": [
      "Total thiknes C\n",
      "Mean = 22.6; std = 5.5\n",
      "Perc 10 = 14.6; std = 28.8\n"
     ]
    }
   ],
   "source": [
    "mean = np.mean(C)\n",
    "std = np.std(C)\n",
    "p10 = np.percentile(C, 10)\n",
    "p90 = np.percentile(C, 90)\n",
    "print(f'Total thiknes C\\nMean = {mean:0.1f}; std = {std:0.1f}')\n",
    "print(f'Perc 10 = {p10:0.1f}; std = {p90:0.1f}')"
   ]
  },
  {
   "cell_type": "code",
   "execution_count": null,
   "metadata": {},
   "outputs": [],
   "source": []
  }
 ],
 "metadata": {
  "kernelspec": {
   "display_name": "Python 3",
   "language": "python",
   "name": "python3"
  },
  "language_info": {
   "codemirror_mode": {
    "name": "ipython",
    "version": 3
   },
   "file_extension": ".py",
   "mimetype": "text/x-python",
   "name": "python",
   "nbconvert_exporter": "python",
   "pygments_lexer": "ipython3",
   "version": "3.8.5"
  }
 },
 "nbformat": 4,
 "nbformat_minor": 4
}
