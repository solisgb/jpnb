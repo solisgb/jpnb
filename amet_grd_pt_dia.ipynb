{
 "cells": [
  {
   "cell_type": "markdown",
   "metadata": {},
   "source": [
    "## AEMET GRID"
   ]
  },
  {
   "cell_type": "markdown",
   "metadata": {},
   "source": [
    "### El fichero de datos de p diaria ocupa 3 gb, vamos a explorar el núm filas y columnas"
   ]
  },
  {
   "cell_type": "code",
   "execution_count": 1,
   "metadata": {},
   "outputs": [],
   "source": [
    "fdata = r'C:\\Users\\LUISSOLIS\\Downloads\\Serie_AEMET_v2_pcp_1951a202006_txt.tar\\pcp_red_SPAIN_1951-20200630.txt'"
   ]
  },
  {
   "cell_type": "code",
   "execution_count": 13,
   "metadata": {},
   "outputs": [
    {
     "name": "stdout",
     "output_type": "stream",
     "text": [
      "El fichero tiene 25383 lines and the last line 16157 words\n"
     ]
    }
   ],
   "source": [
    "with open(fdata, 'r') as f:\n",
    "    for i, line in enumerate(f):\n",
    "        pass\n",
    "words = line.split(' ')\n",
    "last_words = [w1 for w1 in words if len(w1.strip())>0]\n",
    "print(f'El fichero tiene {i:d} lines and the last line {len(last_words):d} words')"
   ]
  },
  {
   "cell_type": "code",
   "execution_count": 8,
   "metadata": {},
   "outputs": [
    {
     "name": "stdout",
     "output_type": "stream",
     "text": [
      "The first line has 16157 words\n"
     ]
    }
   ],
   "source": [
    "with open(fdata, 'r') as f:\n",
    "    for i, line in enumerate(f):\n",
    "        break\n",
    "words = line.split(' ')\n",
    "mywords = [w1 for w1 in words if len(w1.strip())>0]\n",
    "print(f'The first line has {len(mywords):d} words')"
   ]
  },
  {
   "cell_type": "code",
   "execution_count": 14,
   "metadata": {},
   "outputs": [
    {
     "name": "stdout",
     "output_type": "stream",
     "text": [
      "20200630\n",
      "0.00\n",
      "0.00\n"
     ]
    }
   ],
   "source": [
    "for w1 in last_words[0:3]:\n",
    "    print(w1)\n"
   ]
  },
  {
   "cell_type": "markdown",
   "metadata": {},
   "source": [
    "#### El fichero es una matriz, sin cabecera, primera columna la fecha\n",
    "#### La primera fecha es 01/01/1951 y la última 30/06/2020 \n",
    "### Ahora voy a reescribir el fichero de posición de la rejilla a formato csv"
   ]
  },
  {
   "cell_type": "code",
   "execution_count": 7,
   "metadata": {},
   "outputs": [],
   "source": [
    "fmaestro = r'C:\\Users\\LUISSOLIS\\Downloads\\Serie_AEMET_v2_pcp_1951a202006_txt_tar\\maestro_red_hr_SPAIN.txt'\n",
    "fcsv =     r'C:\\Users\\LUISSOLIS\\Downloads\\Serie_AEMET_v2_pcp_1951a202006_txt_tar\\maestro_red_hr_SPAIN.csv'"
   ]
  },
  {
   "cell_type": "code",
   "execution_count": 9,
   "metadata": {},
   "outputs": [
    {
     "name": "stdout",
     "output_type": "stream",
     "text": [
      "fin\n"
     ]
    }
   ],
   "source": [
    "with open(fmaestro, 'r') as fr, open (fcsv, 'w') as fw:\n",
    "    fw.write('\"id\",\"lon\",\"lat\",\"z\"\\n')\n",
    "    for line in fr:\n",
    "        words = line.split(' ')\n",
    "        mywords = [w1.strip() for w1 in words if len(w1.strip())>0]\n",
    "        new_line = ','.join(mywords)\n",
    "        fw.write(f'{new_line}\\n')\n",
    "print('fin')"
   ]
  },
  {
   "cell_type": "code",
   "execution_count": 31,
   "metadata": {},
   "outputs": [],
   "source": [
    "fcsv.close()"
   ]
  },
  {
   "cell_type": "code",
   "execution_count": null,
   "metadata": {},
   "outputs": [],
   "source": []
  }
 ],
 "metadata": {
  "kernelspec": {
   "display_name": "Python 3",
   "language": "python",
   "name": "python3"
  },
  "language_info": {
   "codemirror_mode": {
    "name": "ipython",
    "version": 3
   },
   "file_extension": ".py",
   "mimetype": "text/x-python",
   "name": "python",
   "nbconvert_exporter": "python",
   "pygments_lexer": "ipython3",
   "version": "3.8.5"
  }
 },
 "nbformat": 4,
 "nbformat_minor": 4
}
