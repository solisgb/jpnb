{
 "cells": [
  {
   "cell_type": "markdown",
   "metadata": {},
   "source": [
    "# Gaussian Transform to Support Spatial Modeling"
   ]
  },
  {
   "cell_type": "code",
   "execution_count": 1,
   "metadata": {},
   "outputs": [],
   "source": [
    "import matplotlib.pyplot as plt\n",
    "from matplotlib.ticker import (MultipleLocator)\n",
    "import numpy as np\n",
    "import pandas as pd\n",
    "from scipy import stats, random\n",
    "%matplotlib inline"
   ]
  },
  {
   "cell_type": "markdown",
   "metadata": {},
   "source": [
    "The Gaussian distribution is powerful.  With very few parameters (mean, standard deviation and covariance matrix) we can completely characterize full multivariate distributions.  We can easily calculate conditional expectations and homoscedastic, conditional variances given any conditioning constraints.  This is critical for kriging-based, sequential simulation, just one of various methods available to simulate continuous random functions with the multivariate Gaussian distribution.  There is no practical alternative in many cases, but our data is not generally Gaussian distributed; therefore, we need to transform our data to Gaussian with a quantile-to-quantile normal scores transform.  This is how we do it."
   ]
  },
  {
   "cell_type": "markdown",
   "metadata": {},
   "source": [
    "1. Compile the available data.  Treat outliers, decluster and debias. If declustering weights are available add weights to the percentile calculation.\n",
    "2. Sort data, use the n+1 percentile calculation that assume tails (minimum and maximum) are not sampled.  Assign minimum and maximum values. Also calculate the associated Standard Normal, N[0,1], percentile values using the Norm.Inv() function.  \n",
    "3. Plot the Vsh CDF from Table 2.\n",
    "4. Plot the N[Vsh] CDF from Table 2.\n",
    "5. Graphically observe the transform of a single value in the table, y = GY-1FZ(z).\n",
    "6. Compare results to Percentile.EXC Excel function that also uses a N+1 basis, but without explicit tail assignment (Error if outside data range).\n",
    "7. Plot the Q-Q plot to observe directly the Vsh - N[Vsh] transform function."
   ]
  },
  {
   "cell_type": "markdown",
   "metadata": {},
   "source": [
    "### Table 1. Available representative data: samples in depth"
   ]
  },
  {
   "cell_type": "code",
   "execution_count": 2,
   "metadata": {},
   "outputs": [
    {
     "name": "stdout",
     "output_type": "stream",
     "text": [
      "min sclay  16.729 |  16.729\n",
      "max sclay  43.246 |  43.246\n"
     ]
    }
   ],
   "source": [
    "# Borehole depth\n",
    "depth = (100, 101, 102, 103, 104, 105, 106, 107, 108, 109, 110, 111, 112, 113, 114,\n",
    "          115, 116, 117, 118, 119)\n",
    "# fraction of clay\n",
    "clay = [26.205, 16.729, 25.138, 26.705, 30.129, 31.560, 30.069, 17.762, 38.283, 36.320, \n",
    "        43.246, 42.959, 34.622, 21.505, 43.114, 37.014, 33.395, 23.199, 27.595, 37.434]\n",
    "sclay = clay.copy()\n",
    "sclay.sort()\n",
    "print('min sclay ', min(sclay), '| ', sclay[0])\n",
    "print('max sclay ', max(sclay), '| ', sclay[-1])"
   ]
  },
  {
   "cell_type": "markdown",
   "metadata": {},
   "source": [
    "#### Table 2 2. Source CDF and Transformed, N[VsH]\n",
    "By N+1 Percentile Method"
   ]
  },
  {
   "cell_type": "code",
   "execution_count": 3,
   "metadata": {},
   "outputs": [],
   "source": [
    "# index\n",
    "index = [i for i in range(1, len(depth)+1, 1)]\n",
    "# percentile\n",
    "n = len(index) + 1\n",
    "percentile = [i/n for i in index]\n",
    "percentile= np.round(percentile, 2).tolist()"
   ]
  },
  {
   "cell_type": "code",
   "execution_count": 4,
   "metadata": {},
   "outputs": [],
   "source": [
    "# add tails \n",
    "ind = [0,] + index + [len(index)+1,]\n",
    "perc = [0.01,] + percentile + [0.99,]\n",
    "clay2 = [15.,] + sclay + [45.,]\n",
    "# Percent point function (inverse of cdf — percentiles).\n",
    "N_0_1 = stats.norm.ppf(perc, loc=0, scale=1)"
   ]
  },
  {
   "cell_type": "code",
   "execution_count": 5,
   "metadata": {},
   "outputs": [
    {
     "data": {
      "text/plain": [
       "22"
      ]
     },
     "execution_count": 5,
     "metadata": {},
     "output_type": "execute_result"
    }
   ],
   "source": [
    "len(clay2)"
   ]
  },
  {
   "cell_type": "code",
   "execution_count": 6,
   "metadata": {},
   "outputs": [
    {
     "data": {
      "text/html": [
       "<div>\n",
       "<style scoped>\n",
       "    .dataframe tbody tr th:only-of-type {\n",
       "        vertical-align: middle;\n",
       "    }\n",
       "\n",
       "    .dataframe tbody tr th {\n",
       "        vertical-align: top;\n",
       "    }\n",
       "\n",
       "    .dataframe thead th {\n",
       "        text-align: right;\n",
       "    }\n",
       "</style>\n",
       "<table border=\"1\" class=\"dataframe\">\n",
       "  <thead>\n",
       "    <tr style=\"text-align: right;\">\n",
       "      <th></th>\n",
       "      <th>index</th>\n",
       "      <th>Percentiles</th>\n",
       "      <th>Per clay</th>\n",
       "      <th>N[0,1]</th>\n",
       "    </tr>\n",
       "  </thead>\n",
       "  <tbody>\n",
       "    <tr>\n",
       "      <th>0</th>\n",
       "      <td>0</td>\n",
       "      <td>0.01</td>\n",
       "      <td>15.000</td>\n",
       "      <td>-2.326348</td>\n",
       "    </tr>\n",
       "    <tr>\n",
       "      <th>1</th>\n",
       "      <td>1</td>\n",
       "      <td>0.05</td>\n",
       "      <td>16.729</td>\n",
       "      <td>-1.644854</td>\n",
       "    </tr>\n",
       "    <tr>\n",
       "      <th>2</th>\n",
       "      <td>2</td>\n",
       "      <td>0.10</td>\n",
       "      <td>17.762</td>\n",
       "      <td>-1.281552</td>\n",
       "    </tr>\n",
       "    <tr>\n",
       "      <th>3</th>\n",
       "      <td>3</td>\n",
       "      <td>0.14</td>\n",
       "      <td>21.505</td>\n",
       "      <td>-1.080319</td>\n",
       "    </tr>\n",
       "    <tr>\n",
       "      <th>4</th>\n",
       "      <td>4</td>\n",
       "      <td>0.19</td>\n",
       "      <td>23.199</td>\n",
       "      <td>-0.877896</td>\n",
       "    </tr>\n",
       "    <tr>\n",
       "      <th>5</th>\n",
       "      <td>5</td>\n",
       "      <td>0.24</td>\n",
       "      <td>25.138</td>\n",
       "      <td>-0.706303</td>\n",
       "    </tr>\n",
       "    <tr>\n",
       "      <th>6</th>\n",
       "      <td>6</td>\n",
       "      <td>0.29</td>\n",
       "      <td>26.205</td>\n",
       "      <td>-0.553385</td>\n",
       "    </tr>\n",
       "    <tr>\n",
       "      <th>7</th>\n",
       "      <td>7</td>\n",
       "      <td>0.33</td>\n",
       "      <td>26.705</td>\n",
       "      <td>-0.439913</td>\n",
       "    </tr>\n",
       "    <tr>\n",
       "      <th>8</th>\n",
       "      <td>8</td>\n",
       "      <td>0.38</td>\n",
       "      <td>27.595</td>\n",
       "      <td>-0.305481</td>\n",
       "    </tr>\n",
       "    <tr>\n",
       "      <th>9</th>\n",
       "      <td>9</td>\n",
       "      <td>0.43</td>\n",
       "      <td>30.069</td>\n",
       "      <td>-0.176374</td>\n",
       "    </tr>\n",
       "    <tr>\n",
       "      <th>10</th>\n",
       "      <td>10</td>\n",
       "      <td>0.48</td>\n",
       "      <td>30.129</td>\n",
       "      <td>-0.050154</td>\n",
       "    </tr>\n",
       "    <tr>\n",
       "      <th>11</th>\n",
       "      <td>11</td>\n",
       "      <td>0.52</td>\n",
       "      <td>31.560</td>\n",
       "      <td>0.050154</td>\n",
       "    </tr>\n",
       "    <tr>\n",
       "      <th>12</th>\n",
       "      <td>12</td>\n",
       "      <td>0.57</td>\n",
       "      <td>33.395</td>\n",
       "      <td>0.176374</td>\n",
       "    </tr>\n",
       "    <tr>\n",
       "      <th>13</th>\n",
       "      <td>13</td>\n",
       "      <td>0.62</td>\n",
       "      <td>34.622</td>\n",
       "      <td>0.305481</td>\n",
       "    </tr>\n",
       "    <tr>\n",
       "      <th>14</th>\n",
       "      <td>14</td>\n",
       "      <td>0.67</td>\n",
       "      <td>36.320</td>\n",
       "      <td>0.439913</td>\n",
       "    </tr>\n",
       "    <tr>\n",
       "      <th>15</th>\n",
       "      <td>15</td>\n",
       "      <td>0.71</td>\n",
       "      <td>37.014</td>\n",
       "      <td>0.553385</td>\n",
       "    </tr>\n",
       "    <tr>\n",
       "      <th>16</th>\n",
       "      <td>16</td>\n",
       "      <td>0.76</td>\n",
       "      <td>37.434</td>\n",
       "      <td>0.706303</td>\n",
       "    </tr>\n",
       "    <tr>\n",
       "      <th>17</th>\n",
       "      <td>17</td>\n",
       "      <td>0.81</td>\n",
       "      <td>38.283</td>\n",
       "      <td>0.877896</td>\n",
       "    </tr>\n",
       "    <tr>\n",
       "      <th>18</th>\n",
       "      <td>18</td>\n",
       "      <td>0.86</td>\n",
       "      <td>42.959</td>\n",
       "      <td>1.080319</td>\n",
       "    </tr>\n",
       "    <tr>\n",
       "      <th>19</th>\n",
       "      <td>19</td>\n",
       "      <td>0.90</td>\n",
       "      <td>43.114</td>\n",
       "      <td>1.281552</td>\n",
       "    </tr>\n",
       "    <tr>\n",
       "      <th>20</th>\n",
       "      <td>20</td>\n",
       "      <td>0.95</td>\n",
       "      <td>43.246</td>\n",
       "      <td>1.644854</td>\n",
       "    </tr>\n",
       "    <tr>\n",
       "      <th>21</th>\n",
       "      <td>21</td>\n",
       "      <td>0.99</td>\n",
       "      <td>45.000</td>\n",
       "      <td>2.326348</td>\n",
       "    </tr>\n",
       "  </tbody>\n",
       "</table>\n",
       "</div>"
      ],
      "text/plain": [
       "    index  Percentiles  Per clay    N[0,1]\n",
       "0       0         0.01    15.000 -2.326348\n",
       "1       1         0.05    16.729 -1.644854\n",
       "2       2         0.10    17.762 -1.281552\n",
       "3       3         0.14    21.505 -1.080319\n",
       "4       4         0.19    23.199 -0.877896\n",
       "5       5         0.24    25.138 -0.706303\n",
       "6       6         0.29    26.205 -0.553385\n",
       "7       7         0.33    26.705 -0.439913\n",
       "8       8         0.38    27.595 -0.305481\n",
       "9       9         0.43    30.069 -0.176374\n",
       "10     10         0.48    30.129 -0.050154\n",
       "11     11         0.52    31.560  0.050154\n",
       "12     12         0.57    33.395  0.176374\n",
       "13     13         0.62    34.622  0.305481\n",
       "14     14         0.67    36.320  0.439913\n",
       "15     15         0.71    37.014  0.553385\n",
       "16     16         0.76    37.434  0.706303\n",
       "17     17         0.81    38.283  0.877896\n",
       "18     18         0.86    42.959  1.080319\n",
       "19     19         0.90    43.114  1.281552\n",
       "20     20         0.95    43.246  1.644854\n",
       "21     21         0.99    45.000  2.326348"
      ]
     },
     "execution_count": 6,
     "metadata": {},
     "output_type": "execute_result"
    }
   ],
   "source": [
    "df = pd.DataFrame({'index': ind, 'Percentiles': perc, 'Per clay': clay2, 'N[0,1]': N_0_1})\n",
    "df"
   ]
  },
  {
   "cell_type": "code",
   "execution_count": 14,
   "metadata": {},
   "outputs": [
    {
     "data": {
      "image/png": "[encoded data removed]",
      "text/plain": [
       "<Figure size 576x345.6 with 2 Axes>"
      ]
     },
     "metadata": {
      "needs_background": "light"
     },
     "output_type": "display_data"
    }
   ],
   "source": [
    "fig, (ax1, ax2) = plt.subplots(1, 2, figsize=(8, 4.8), sharey=True)\n",
    "ax1.plot(df['Per clay'], df['Percentiles'], color='blue')\n",
    "ax1.set_title('3. Vsh CDF (Z)')\n",
    "ax1.set_ylabel('Cumulative probability')\n",
    "ax1.set_xlabel('Clay (%)')\n",
    "ax1.yaxis.get_ticklocs(minor=True)\n",
    "ax1.minorticks_on()\n",
    "ax1.grid()\n",
    "\n",
    "ax2.plot(df['N[0,1]'], df['Percentiles'], color='blue')\n",
    "ax2.set_title('4. N[0,1]CDF (Y)')\n",
    "ax2.set_xlabel('N[Clay (%)]')\n",
    "ax2.yaxis.get_ticklocs(minor=True)\n",
    "ax2.minorticks_on()\n",
    "ax2.grid()"
   ]
  }
 ],
 "metadata": {
  "kernelspec": {
   "display_name": "Python 3",
   "language": "python",
   "name": "python3"
  },
  "language_info": {
   "codemirror_mode": {
    "name": "ipython",
    "version": 3
   },
   "file_extension": ".py",
   "mimetype": "text/x-python",
   "name": "python",
   "nbconvert_exporter": "python",
   "pygments_lexer": "ipython3",
   "version": "3.8.5"
  }
 },
 "nbformat": 4,
 "nbformat_minor": 4
}
