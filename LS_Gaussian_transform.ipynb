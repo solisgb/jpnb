{
 "cells": [
  {
   "cell_type": "markdown",
   "metadata": {},
   "source": [
    "# Gaussian Transform to Support Spatial Modeling"
   ]
  },
  {
   "cell_type": "code",
   "execution_count": 1,
   "metadata": {},
   "outputs": [],
   "source": [
    "import matplotlib.pyplot as plt\n",
    "import numpy as np\n",
    "from scipy import stats, random\n",
    "%matplotlib inline"
   ]
  },
  {
   "cell_type": "code",
   "execution_count": 14,
   "metadata": {},
   "outputs": [],
   "source": [
    "# Borehole depth\n",
    "depth = (100, 101, 102, 103, 104, 105, 106, 107, 108, 109, 110, 111, 112, 113, 114,\n",
    "          115, 116, 117, 118, 119)\n",
    "# fraction of clay\n",
    "clay = [26.205, 16.729, 25.138, 26.705, 30.129, 31.560, 30.069, 17.762, 38.283,\n",
    "        36.320, 43.246, 42.959, 34.622, 21.505, 43.114, 37.014, 33.395, 23.199, 27.595, 37.434]\n",
    "sclay = clay.copy()\n",
    "sclay.sort()"
   ]
  },
  {
   "cell_type": "code",
   "execution_count": 22,
   "metadata": {},
   "outputs": [],
   "source": [
    "# index\n",
    "index = [i for i in range(1, len(depth)+1, 1)]\n",
    "# percentile\n",
    "n = len(index) + 1\n",
    "percentile = [i/n for i in index]\n",
    "percentile= np.round(percentile, 2).tolist()"
   ]
  },
  {
   "cell_type": "code",
   "execution_count": 23,
   "metadata": {},
   "outputs": [
    {
     "data": {
      "text/plain": [
       "[0.01,\n",
       " 0.05,\n",
       " 0.1,\n",
       " 0.14,\n",
       " 0.19,\n",
       " 0.24,\n",
       " 0.29,\n",
       " 0.33,\n",
       " 0.38,\n",
       " 0.43,\n",
       " 0.48,\n",
       " 0.52,\n",
       " 0.57,\n",
       " 0.62,\n",
       " 0.67,\n",
       " 0.71,\n",
       " 0.76,\n",
       " 0.81,\n",
       " 0.86,\n",
       " 0.9,\n",
       " 0.95,\n",
       " 0.99]"
      ]
     },
     "execution_count": 23,
     "metadata": {},
     "output_type": "execute_result"
    }
   ],
   "source": [
    "# add tails \n",
    "ind = [0,] + index + [len(index)+1,]\n",
    "perc = [0.01,] + percentile + [0.99,]\n"
   ]
  }
 ],
 "metadata": {
  "kernelspec": {
   "display_name": "Python 3",
   "language": "python",
   "name": "python3"
  },
  "language_info": {
   "codemirror_mode": {
    "name": "ipython",
    "version": 3
   },
   "file_extension": ".py",
   "mimetype": "text/x-python",
   "name": "python",
   "nbconvert_exporter": "python",
   "pygments_lexer": "ipython3",
   "version": "3.8.5"
  }
 },
 "nbformat": 4,
 "nbformat_minor": 4
}
