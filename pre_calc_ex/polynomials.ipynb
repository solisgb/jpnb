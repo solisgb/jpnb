{
 "cells": [
  {
   "cell_type": "code",
   "execution_count": 1,
   "id": "f786210a-7ec2-4851-bbca-fab22b5bc244",
   "metadata": {},
   "outputs": [],
   "source": [
    "import numpy as np\n"
   ]
  },
  {
   "cell_type": "code",
   "execution_count": 2,
   "id": "b3b8f9ef-8733-407f-9307-e1f7aee29908",
   "metadata": {},
   "outputs": [],
   "source": [
    "# evaluar polinimoios\n",
    "def real_roots(coef, x1):\n",
    "    deg = len(coef) - 1\n",
    "    y = 0.\n",
    "    for i, a in enumerate(coef):\n",
    "        n = deg - i\n",
    "        if n > 0:\n",
    "            y += a*(x1**n)\n",
    "        else:\n",
    "            y += a\n",
    "    return y"
   ]
  },
  {
   "cell_type": "code",
   "execution_count": 48,
   "id": "aecbba3e-1b27-498c-8183-94b97ec26998",
   "metadata": {},
   "outputs": [],
   "source": [
    "# Factors of n, shorturl.at/BNX58\n",
    "from functools import reduce\n",
    "from math import sqrt\n",
    "\n",
    "def factors1(n):\n",
    "    n1 = abs(n)\n",
    "    s = set(reduce(list.__add__, \n",
    "        ([i, n1//i] for i in range(1, int(n1**0.5) + 1) if n1 % i == 0)))\n",
    "    s = sorted(s)\n",
    "    if n >= 0:\n",
    "        return s\n",
    "    else:\n",
    "        s2 = [-s1 for s1 in s]\n",
    "        s3 = [val for pair in zip(s, s2) for val in pair]\n",
    "        return s3\n",
    "    \n",
    "def factors2(n):\n",
    "        step = 2 if n%2 else 1\n",
    "        return set(reduce(list.__add__,\n",
    "                    ([i, n//i] for i in range(1, int(sqrt(n))+1, step) if n % i == 0)))\n"
   ]
  },
  {
   "cell_type": "code",
   "execution_count": 34,
   "id": "bdea76c8-694a-42fe-8262-f1669ef36d81",
   "metadata": {},
   "outputs": [
    {
     "name": "stdout",
     "output_type": "stream",
     "text": [
      "1\n",
      "-0.5\n"
     ]
    }
   ],
   "source": [
    "coef = [4, 0, -3, -1]\n",
    "x = [-1, 1, -1/2, 1/2, -1/4, 1/4]\n",
    "for x1 in x:\n",
    "    y = real_roots(coef, x1)\n",
    "    if abs(y) < 0.0001:\n",
    "        print(x1)"
   ]
  },
  {
   "cell_type": "code",
   "execution_count": 53,
   "id": "435da007-c1b6-455f-98df-bca061c1c6d3",
   "metadata": {},
   "outputs": [
    {
     "name": "stdout",
     "output_type": "stream",
     "text": [
      "[1, -1, 3, -3, 9, -9, 13, -13, 27, -27, 39, -39, 81, -81, 117, -117, 351, -351, 1053, -1053]\n"
     ]
    }
   ],
   "source": [
    "n = -1053\n",
    "print(factors1(n))"
   ]
  },
  {
   "cell_type": "code",
   "execution_count": 29,
   "id": "72437122-26c4-4b49-b770-d97d970baa1f",
   "metadata": {},
   "outputs": [
    {
     "data": {
      "text/plain": [
       "1053"
      ]
     },
     "execution_count": 29,
     "metadata": {},
     "output_type": "execute_result"
    }
   ],
   "source": [
    "27*39"
   ]
  },
  {
   "cell_type": "code",
   "execution_count": null,
   "id": "05ca568c-b55c-453f-b415-04e0e24e05a2",
   "metadata": {},
   "outputs": [],
   "source": []
  }
 ],
 "metadata": {
  "kernelspec": {
   "display_name": "Python 3 (ipykernel)",
   "language": "python",
   "name": "python3"
  },
  "language_info": {
   "codemirror_mode": {
    "name": "ipython",
    "version": 3
   },
   "file_extension": ".py",
   "mimetype": "text/x-python",
   "name": "python",
   "nbconvert_exporter": "python",
   "pygments_lexer": "ipython3",
   "version": "3.8.12"
  }
 },
 "nbformat": 4,
 "nbformat_minor": 5
}
