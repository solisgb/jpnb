{
 "cells": [
  {
   "cell_type": "code",
   "execution_count": 1,
   "id": "829aa749-828a-4437-aeb1-fc4ee80ce20a",
   "metadata": {},
   "outputs": [],
   "source": [
    "import numpy as np\n",
    "import matplotlib.pyplot as plt"
   ]
  },
  {
   "cell_type": "code",
   "execution_count": 43,
   "id": "fa6dc476-d2bf-4381-a660-13d7ed6a0aff",
   "metadata": {},
   "outputs": [
    {
     "data": {
      "text/plain": [
       "<matplotlib.lines.Line2D at 0x178aafdd190>"
      ]
     },
     "execution_count": 43,
     "metadata": {},
     "output_type": "execute_result"
    },
    {
     "data": {
      "image/png": "[encoded data removed]",
      "text/plain": [
       "<Figure size 432x288 with 1 Axes>"
      ]
     },
     "metadata": {
      "needs_background": "light"
     },
     "output_type": "display_data"
    }
   ],
   "source": [
    "f = lambda x: np.abs(x - 5) \n",
    "\n",
    "x = np.linspace(-5, 15, 3)\n",
    "\n",
    "fig, ax = plt.subplots(1,1)\n",
    "ax.plot(x, f(x), label='f(x)')\n",
    "ax.legend()\n",
    "ax.grid(True)\n",
    "plt.axhline(y=4, color='r', linestyle='-')"
   ]
  },
  {
   "cell_type": "raw",
   "id": "87fa7db2-ec4f-4566-8a42-72e70d159000",
   "metadata": {},
   "source": [
    "f(x) = -1/2 * np.abs(4*x - 5) + 3 < 0 \n",
    "\n",
    "-1/2 * |4x - 5| + 3 < 0\n",
    "-1/2 * |4x - 5| < -3\n",
    "|4x - 5| < 6\n",
    "4x - 5 = 6      4*x - 5 = -6      \n",
    "4x = 11          4x = -1 \n",
    "x = 11/4         x = -1/4\n",
    "         -1/4 < x < 11/4\n",
    "            x < -1/4\n",
    "            x > 11/4\n",
    "            "
   ]
  },
  {
   "cell_type": "code",
   "execution_count": 23,
   "id": "d5a9180b-c793-4e7a-bda1-30dfcaf40976",
   "metadata": {},
   "outputs": [],
   "source": [
    "f = lambda x: -0.5 * np.abs(4*x - 5) + 3"
   ]
  },
  {
   "cell_type": "code",
   "execution_count": 25,
   "id": "12195351-d89c-4756-bfeb-dc349ad7dae8",
   "metadata": {},
   "outputs": [
    {
     "name": "stdout",
     "output_type": "stream",
     "text": [
      "-0.25 2.75\n",
      "-1/4 < x < 11/4, 1 2.5 False\n",
      "x < -1/4, -1 -1.5 True\n",
      "x > 11/4, 5 -4.5 True\n"
     ]
    }
   ],
   "source": [
    "print(-1/4, 11/4)\n",
    "x = 1\n",
    "print('-1/4 < x < 11/4,', x, f(x), f(x)<0)\n",
    "x = -1\n",
    "print('x < -1/4,', x, f(x), f(x)<0)\n",
    "x = 5\n",
    "print('x > 11/4,', x, f(x), f(x)<0)"
   ]
  },
  {
   "cell_type": "code",
   "execution_count": 35,
   "id": "c321e16e-0aa3-4bc3-a8ce-de47a8afe30b",
   "metadata": {},
   "outputs": [
    {
     "data": {
      "text/plain": [
       "(-5.625, 8.125, -10.125, 3.625)"
      ]
     },
     "execution_count": 35,
     "metadata": {},
     "output_type": "execute_result"
    },
    {
     "data": {
      "image/png": "[encoded data removed]",
      "text/plain": [
       "<Figure size 432x288 with 1 Axes>"
      ]
     },
     "metadata": {
      "needs_background": "light"
     },
     "output_type": "display_data"
    }
   ],
   "source": [
    "x = np.linspace(-5, 7.5, 3)\n",
    "\n",
    "fig, ax = plt.subplots(1,1)\n",
    "ax.plot(x, f(x), label='f(x)')\n",
    "ax.legend()\n",
    "ax.grid(True)\n",
    "plt.axhline(y=0, color='r', linestyle='-')\n",
    "ax.axis('equal')"
   ]
  },
  {
   "cell_type": "code",
   "execution_count": null,
   "id": "173e5051-b658-42c2-b16d-ce7d0d0b73d4",
   "metadata": {},
   "outputs": [],
   "source": []
  }
 ],
 "metadata": {
  "kernelspec": {
   "display_name": "Python 3 (ipykernel)",
   "language": "python",
   "name": "python3"
  },
  "language_info": {
   "codemirror_mode": {
    "name": "ipython",
    "version": 3
   },
   "file_extension": ".py",
   "mimetype": "text/x-python",
   "name": "python",
   "nbconvert_exporter": "python",
   "pygments_lexer": "ipython3",
   "version": "3.8.12"
  }
 },
 "nbformat": 4,
 "nbformat_minor": 5
}
