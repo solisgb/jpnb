{
 "cells": [
  {
   "cell_type": "code",
   "execution_count": 1,
   "id": "57beed82-3b79-4a67-8f02-36c709e20a66",
   "metadata": {},
   "outputs": [],
   "source": [
    "import numpy as np\n",
    "import matplotlib.pyplot as plt\n",
    "from scipy.optimize import curve_fit\n",
    "from scipy.stats import expon\n",
    "\n",
    "%matplotlib inline"
   ]
  },
  {
   "cell_type": "code",
   "execution_count": 5,
   "id": "38cf1070-2430-406e-82f6-aa1ae7d2b05e",
   "metadata": {},
   "outputs": [],
   "source": [
    "def fexp2p(x, a, b):\n",
    "    return a * np.exp(b * x)\n",
    "\n",
    "def fexp3p(x, a, b, c):\n",
    "    return a * np.exp(b * x) + c\n",
    "\n",
    "def fexp4p(x, a, b, c, d):\n",
    "    return a * np.exp(b * (x - c)) + d\n",
    "\n",
    "def goodness_of_fit(f, x, y, popt, pcov=None):\n",
    "    print('parameters: ', popt)\n",
    "    if pcov is not None:\n",
    "        print('covariance: ', pcov)\n",
    "        perr = np.sqrt(np.diag(pcov))\n",
    "        print(perr, '\\n')\n",
    "\n",
    "    # residual sum of squares (ss_res)\n",
    "    residuals = y - f(x, *popt)\n",
    "    ss_res = np.sum(residuals**2)\n",
    "    # total sum of squares (ss_tot)\n",
    "    ss_tot = np.sum((y - np.mean(y))**2)\n",
    "    r_squared = 1 - (ss_res / ss_tot)\n",
    "    print('R**2 = ', r_squared) \n",
    "    return r_squared"
   ]
  },
  {
   "cell_type": "code",
   "execution_count": 6,
   "id": "9fea68f4-b82c-4c1a-a3af-93abbe001bf6",
   "metadata": {},
   "outputs": [
    {
     "name": "stdout",
     "output_type": "stream",
     "text": [
      "[13.7698 10.1962  8.2206  6.6732  5.2666]\n",
      "[0 1 2 3 4]\n"
     ]
    }
   ],
   "source": [
    "fname = r'H:\\LSGB\\20220503_Mar_Menor\\data\\qhalbujon.csv'\n",
    "\n",
    "y = np.genfromtxt(fname, delimiter=',', dtype=np.float64, autostrip=True, skip_header=1)\n",
    "print(y[0:5])\n",
    "x = np.arange(len(y))\n",
    "print(x[0:5])"
   ]
  },
  {
   "cell_type": "code",
   "execution_count": 7,
   "id": "ec670161-7912-4a0d-b7df-30af6439c0f7",
   "metadata": {},
   "outputs": [
    {
     "data": {
      "text/plain": [
       "<matplotlib.legend.Legend at 0x1cecdd8f760>"
      ]
     },
     "execution_count": 7,
     "metadata": {},
     "output_type": "execute_result"
    },
    {
     "data": {
      "image/png": "[encoded data removed]",
      "text/plain": [
       "<Figure size 432x288 with 1 Axes>"
      ]
     },
     "metadata": {
      "needs_background": "light"
     },
     "output_type": "display_data"
    }
   ],
   "source": [
    "fig, ax = plt.subplots()\n",
    "ax.plot(x, y, 'r.', label='Q Albujón m3/s')\n",
    "ax.legend()"
   ]
  },
  {
   "cell_type": "code",
   "execution_count": 24,
   "id": "b013a7ee-8dcc-470d-8673-1fc89e6d4e44",
   "metadata": {},
   "outputs": [
    {
     "name": "stdout",
     "output_type": "stream",
     "text": [
      "parameters:  [-6.36412725e-13  9.99999998e-01 -1.05877936e+62]\n",
      "R**2 =  -7.430524260701697e+145\n"
     ]
    }
   ],
   "source": [
    "f = fexp3p\n",
    "popt, pcov = curve_fit(f, x, y) \n",
    "rsq = goodness_of_fit(f, x, y, popt)"
   ]
  },
  {
   "cell_type": "code",
   "execution_count": 32,
   "id": "9bbba71c-baef-4fe8-bdde-fd7b60271949",
   "metadata": {},
   "outputs": [
    {
     "data": {
      "text/plain": [
       "<matplotlib.legend.Legend at 0x1cecfd58f40>"
      ]
     },
     "execution_count": 32,
     "metadata": {},
     "output_type": "execute_result"
    },
    {
     "data": {
      "image/png": "[encoded data removed]",
      "text/plain": [
       "<Figure size 432x288 with 1 Axes>"
      ]
     },
     "metadata": {
      "needs_background": "light"
     },
     "output_type": "display_data"
    }
   ],
   "source": [
    "fig, ax = plt.subplots()\n",
    "ax.plot(x, y, 'r.', label='data')\n",
    "ax.plot(x, f(x, *popt), 'g-', label=f'{rsq:2E}')\n",
    "ax.legend()"
   ]
  }
 ],
 "metadata": {
  "kernelspec": {
   "display_name": "Python 3 (ipykernel)",
   "language": "python",
   "name": "python3"
  },
  "language_info": {
   "codemirror_mode": {
    "name": "ipython",
    "version": 3
   },
   "file_extension": ".py",
   "mimetype": "text/x-python",
   "name": "python",
   "nbconvert_exporter": "python",
   "pygments_lexer": "ipython3",
   "version": "3.8.12"
  }
 },
 "nbformat": 4,
 "nbformat_minor": 5
}
