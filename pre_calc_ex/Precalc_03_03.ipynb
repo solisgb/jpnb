{
 "cells": [
  {
   "cell_type": "code",
   "execution_count": 1,
   "id": "95f5c974-2683-44b5-98d0-fae4a7637142",
   "metadata": {},
   "outputs": [],
   "source": [
    "import numpy as np\n",
    "import matplotlib.pyplot as plt\n",
    "%matplotlib inline"
   ]
  },
  {
   "cell_type": "markdown",
   "id": "bead379d-17c3-4ab5-954e-a793a137be95",
   "metadata": {},
   "source": [
    "# Precalculus 03 Polynomial and rational functions\n",
    "## 02 Quadratic functions\n",
    "### fucntions"
   ]
  },
  {
   "cell_type": "code",
   "execution_count": 51,
   "id": "5cce7c7f-d1df-45fc-bc0f-1181766842ee",
   "metadata": {},
   "outputs": [],
   "source": [
    "def f_gf(x, a, b, c):  # general form\n",
    "    return a*x**2 + b*x + c\n",
    "\n",
    "def f_sf(x, a, h, k):  # standar form\n",
    "    return a*(x - h)**2 + k\n",
    "\n",
    "def h_get(a, b):\n",
    "    return -b/(2*a)\n",
    "\n",
    "def qroots(a, b, c):\n",
    "    x = np.sqrt(b**2 - 4*a*c)\n",
    "    return (-b + x) / (2*a), (-b - x) / (2*a) "
   ]
  },
  {
   "cell_type": "code",
   "execution_count": 52,
   "id": "74da3d5d-d948-43a9-a75f-f2e93f634a5a",
   "metadata": {},
   "outputs": [
    {
     "data": {
      "text/plain": [
       "(-6.4, 2.4, -1.7982858891949807, 15.79991837567595)"
      ]
     },
     "execution_count": 52,
     "metadata": {},
     "output_type": "execute_result"
    },
    {
     "data": {
      "image/png": "[encoded data removed]",
      "text/plain": [
       "<Figure size 432x288 with 1 Axes>"
      ]
     },
     "metadata": {
      "needs_background": "light"
     },
     "output_type": "display_data"
    }
   ],
   "source": [
    "a=1; b=4; c=3\n",
    "x = np.linspace(-6, 2,100)\n",
    "y = f_gf(x, a, b, c)\n",
    "fig, ax = plt.subplots()\n",
    "ax.plot(x,y)\n",
    "ax.grid()\n",
    "ax.axis('equal')"
   ]
  },
  {
   "cell_type": "code",
   "execution_count": 53,
   "id": "90986b21-48a8-4b68-84fe-54e3a06c261f",
   "metadata": {},
   "outputs": [
    {
     "data": {
      "text/plain": [
       "array([-3., -1.])"
      ]
     },
     "execution_count": 53,
     "metadata": {},
     "output_type": "execute_result"
    }
   ],
   "source": [
    "p = np.array([a, b, c])\n",
    "roots = np.roots(p)\n",
    "roots"
   ]
  },
  {
   "cell_type": "code",
   "execution_count": 54,
   "id": "e912fe24-cdd8-4b55-a4da-911d5fbdc061",
   "metadata": {},
   "outputs": [
    {
     "data": {
      "text/plain": [
       "-2.0"
      ]
     },
     "execution_count": 54,
     "metadata": {},
     "output_type": "execute_result"
    }
   ],
   "source": [
    "h = -b/(2*a)\n",
    "h"
   ]
  },
  {
   "cell_type": "code",
   "execution_count": 55,
   "id": "dbdbff2e-28db-4ccb-8d27-20c5dd3cc00a",
   "metadata": {},
   "outputs": [
    {
     "data": {
      "text/plain": [
       "-1.0"
      ]
     },
     "execution_count": 55,
     "metadata": {},
     "output_type": "execute_result"
    }
   ],
   "source": [
    "k = f(h, a, b, c)\n",
    "k"
   ]
  },
  {
   "cell_type": "code",
   "execution_count": 56,
   "id": "8635aeaf-1699-49b7-a4e9-11097128674c",
   "metadata": {},
   "outputs": [
    {
     "data": {
      "text/plain": [
       "(-6.4, 2.4, -1.7982858891949802, 15.79991837567595)"
      ]
     },
     "execution_count": 56,
     "metadata": {},
     "output_type": "execute_result"
    },
    {
     "data": {
      "image/png": "[encoded data removed]",
      "text/plain": [
       "<Figure size 432x288 with 1 Axes>"
      ]
     },
     "metadata": {
      "needs_background": "light"
     },
     "output_type": "display_data"
    }
   ],
   "source": [
    "# standar form\n",
    "y = f_sf(x, a, h, k)\n",
    "fig, ax = plt.subplots()\n",
    "ax.plot(x,y)\n",
    "ax.grid()\n",
    "ax.axis('equal')"
   ]
  },
  {
   "cell_type": "code",
   "execution_count": 57,
   "id": "4cfac57e-15cf-4448-9a2f-7640031beb5e",
   "metadata": {},
   "outputs": [
    {
     "data": {
      "text/plain": [
       "array([-2.73205081,  0.73205081])"
      ]
     },
     "execution_count": 57,
     "metadata": {},
     "output_type": "execute_result"
    }
   ],
   "source": [
    "coefs1 = [2, 4, -4]\n",
    "p = np.array(coefs1)\n",
    "roots = np.roots(p)\n",
    "roots"
   ]
  },
  {
   "cell_type": "code",
   "execution_count": 58,
   "id": "c3d7ed53-9905-46c6-a90c-a48b84d89d40",
   "metadata": {},
   "outputs": [
    {
     "data": {
      "text/plain": [
       "-1.0"
      ]
     },
     "execution_count": 58,
     "metadata": {},
     "output_type": "execute_result"
    }
   ],
   "source": [
    "h = -4/(2*2)\n",
    "h"
   ]
  },
  {
   "cell_type": "code",
   "execution_count": 59,
   "id": "4d67cc87-e37c-40d1-87f6-57f101fee882",
   "metadata": {},
   "outputs": [
    {
     "data": {
      "text/plain": [
       "-6.0"
      ]
     },
     "execution_count": 59,
     "metadata": {},
     "output_type": "execute_result"
    }
   ],
   "source": [
    "f_gf(h, 2, 4, -4)"
   ]
  },
  {
   "cell_type": "code",
   "execution_count": 60,
   "id": "9cfc5c96-5961-48ab-a289-f9ba846a46a2",
   "metadata": {},
   "outputs": [
    {
     "data": {
      "text/plain": [
       "0.7320508075688772"
      ]
     },
     "execution_count": 60,
     "metadata": {},
     "output_type": "execute_result"
    }
   ],
   "source": [
    "-1 + np.sqrt(3)"
   ]
  },
  {
   "cell_type": "code",
   "execution_count": 61,
   "id": "f3ac8877-6db9-4ee6-92f7-5580bbcbc115",
   "metadata": {},
   "outputs": [
    {
     "data": {
      "text/plain": [
       "(0.7320508075688772, -2.732050807568877)"
      ]
     },
     "execution_count": 61,
     "metadata": {},
     "output_type": "execute_result"
    }
   ],
   "source": [
    "qroots(2, 4, -4)"
   ]
  },
  {
   "cell_type": "markdown",
   "id": "bb5cec13-0572-4e90-9b09-23450dde20b6",
   "metadata": {},
   "source": [
    "## 03 Power functions"
   ]
  },
  {
   "cell_type": "code",
   "execution_count": 62,
   "id": "4fae5531-101e-40a5-8e17-9aab564b7afe",
   "metadata": {},
   "outputs": [],
   "source": [
    "def p(x, coefs):\n",
    "    s = 0\n",
    "    pw = len(coefs) - 1\n",
    "    for coef1 in coefs:\n",
    "        s = s + coef1*x**pw\n",
    "        pw -= 1\n",
    "    return s + coefs[-1]"
   ]
  },
  {
   "cell_type": "code",
   "execution_count": 63,
   "id": "909a9efe-6649-45bb-a068-ab3a41bcca87",
   "metadata": {},
   "outputs": [],
   "source": [
    "x = np.linspace(2009, 2013, 2013-2009+1) \n",
    "y = (800, 897, 992, 1083, 1169)"
   ]
  },
  {
   "cell_type": "code",
   "execution_count": 64,
   "id": "444e2e56-b3d8-42f4-afc1-f427f605c23d",
   "metadata": {},
   "outputs": [
    {
     "data": {
      "image/png": "[encoded data removed]",
      "text/plain": [
       "<Figure size 432x288 with 1 Axes>"
      ]
     },
     "metadata": {
      "needs_background": "light"
     },
     "output_type": "display_data"
    }
   ],
   "source": [
    "fig, ax = plt.subplots()\n",
    "ax.scatter(x,y)\n",
    "ax.grid()"
   ]
  },
  {
   "cell_type": "code",
   "execution_count": 72,
   "id": "d67326ed-8777-414c-97ed-29074dff9b48",
   "metadata": {},
   "outputs": [
    {
     "data": {
      "image/png": "[encoded data removed]",
      "text/plain": [
       "<Figure size 432x288 with 1 Axes>"
      ]
     },
     "metadata": {
      "needs_background": "light"
     },
     "output_type": "display_data"
    }
   ],
   "source": [
    "x = np.linspace(-1.2, 1.2, 100)\n",
    "fig, ax = plt.subplots()\n",
    "fig.suptitle('even powers')\n",
    "for n in (2, 4, 6):\n",
    "    ax.plot(x,np.power(x, n),label=f'x**{n:d}')\n",
    "ax.legend()\n",
    "ax.axis('equal')\n",
    "ax.grid()"
   ]
  },
  {
   "cell_type": "code",
   "execution_count": 73,
   "id": "345a2849-a362-4257-8dee-d16e128f0bda",
   "metadata": {},
   "outputs": [
    {
     "data": {
      "image/png": "[encoded data removed]",
      "text/plain": [
       "<Figure size 432x288 with 1 Axes>"
      ]
     },
     "metadata": {
      "needs_background": "light"
     },
     "output_type": "display_data"
    }
   ],
   "source": [
    "x = np.linspace(-1.2, 1.2, 100)\n",
    "fig, ax = plt.subplots()\n",
    "fig.suptitle('odd powers')\n",
    "for n in (3, 5, 7):\n",
    "    ax.plot(x,np.power(x, n),label=f'x**{n:d}')\n",
    "ax.legend()\n",
    "#ax.axis('equal')\n",
    "ax.grid()"
   ]
  },
  {
   "cell_type": "markdown",
   "id": "8c08c3d5-72ab-4831-9e11-463f75e6b07e",
   "metadata": {},
   "source": [
    "## 04 polynomials"
   ]
  },
  {
   "cell_type": "code",
   "execution_count": 2,
   "id": "88c0599f-8098-4e02-8f6c-1f397bbb9ede",
   "metadata": {},
   "outputs": [
    {
     "data": {
      "text/plain": [
       "array([ 2.43333207+0.j        ,  0.43270528+0.91748637j,\n",
       "        0.43270528-0.91748637j, -0.79874263+0.j        ])"
      ]
     },
     "execution_count": 2,
     "metadata": {},
     "output_type": "execute_result"
    }
   ],
   "source": [
    "coef = np.array([2, -5, 1, 0, -4])\n",
    "np.roots(coef)"
   ]
  },
  {
   "cell_type": "code",
   "execution_count": null,
   "id": "5d9c189c-4729-48e7-8722-28bb458d57cc",
   "metadata": {},
   "outputs": [],
   "source": []
  }
 ],
 "metadata": {
  "kernelspec": {
   "display_name": "Python 3 (ipykernel)",
   "language": "python",
   "name": "python3"
  },
  "language_info": {
   "codemirror_mode": {
    "name": "ipython",
    "version": 3
   },
   "file_extension": ".py",
   "mimetype": "text/x-python",
   "name": "python",
   "nbconvert_exporter": "python",
   "pygments_lexer": "ipython3",
   "version": "3.8.12"
  }
 },
 "nbformat": 4,
 "nbformat_minor": 5
}
