{
 "cells": [
  {
   "cell_type": "markdown",
   "id": "58796843-92a7-44eb-9c3c-18818f859750",
   "metadata": {},
   "source": [
    "# Openstax. Precalculus Chap. 6, inverse funcs"
   ]
  },
  {
   "cell_type": "code",
   "execution_count": 103,
   "id": "622fe5ed-03cf-41ed-a5a8-5aa6a4cfac40",
   "metadata": {},
   "outputs": [],
   "source": [
    "import numpy as np\n",
    "from matplotlib import ticker\n",
    "import matplotlib.pyplot as plt\n",
    "from scipy import optimize\n",
    "\n",
    "%matplotlib inline "
   ]
  },
  {
   "cell_type": "markdown",
   "id": "0b33cdbc-8e63-4eac-b7e5-bbc15dba6647",
   "metadata": {},
   "source": [
    "## Funcs"
   ]
  },
  {
   "cell_type": "code",
   "execution_count": 104,
   "id": "123df7ca-3e8c-4b86-9516-0f44b21f5376",
   "metadata": {},
   "outputs": [],
   "source": [
    "def quadrant_get(rad: np.array):\n",
    "    return_int = False\n",
    "    if isinstance(rad, float) or isinstance(rad, int):\n",
    "        rad = np.array([rad,])\n",
    "        return_int = True\n",
    "    elif isinstance(rad, list):\n",
    "        rad = np.array(rad)\n",
    "    a = rad%(2*np.pi)\n",
    "    l = np.deg2rad([0, 90, 180, 270, 360])\n",
    "    q = np.zeros(len(a), np.int32)\n",
    "    for i, a1 in enumerate(a):\n",
    "        for j, l1 in enumerate(l):\n",
    "            if j == 0:\n",
    "                continue\n",
    "            if a1>= l[j-1] and a1<= l1:\n",
    "                q[i] = j\n",
    "                break\n",
    "    if return_int:\n",
    "        return q[0]\n",
    "    else:\n",
    "        return q"
   ]
  },
  {
   "cell_type": "markdown",
   "id": "08044e90-e81b-4b7d-bd33-40ae91a3fdd7",
   "metadata": {},
   "source": [
    "## Reference angles\n",
    "<img src='trig_funcs_angles.png' width=\"650\" height=\"500\"> <br>\n"
   ]
  },
  {
   "cell_type": "markdown",
   "id": "a876116d-5c94-4a37-ae18-e4617a486717",
   "metadata": {},
   "source": [
    "<img src='trig_funcs_spacial_angles_coordinates.png' width=\"450\" height=\"400\">"
   ]
  },
  {
   "cell_type": "markdown",
   "id": "46a7204a-dec4-46f3-b4c6-ce2b7dd6dd06",
   "metadata": {},
   "source": [
    "## Inverse sin and cos"
   ]
  },
  {
   "cell_type": "code",
   "execution_count": 3,
   "id": "fc5ebdde-9c21-4522-9c7e-e84c0f576548",
   "metadata": {},
   "outputs": [
    {
     "data": {
      "text/plain": [
       "1.3252308092796046"
      ]
     },
     "execution_count": 3,
     "metadata": {},
     "output_type": "execute_result"
    }
   ],
   "source": [
    "x = 0.97\n",
    "np.arcsin(x)"
   ]
  },
  {
   "cell_type": "code",
   "execution_count": 4,
   "id": "ebb10f11-771e-424d-9a4f-91c7961fcf8d",
   "metadata": {},
   "outputs": [],
   "source": [
    "def f(x):\n",
    "    return (np.sin(x)-0.97) \n",
    "\n",
    "def fprime(x):\n",
    "    return np.cos(x)"
   ]
  },
  {
   "cell_type": "code",
   "execution_count": 5,
   "id": "0ea6888a-3c11-41a0-9bf7-dba1f0610e32",
   "metadata": {},
   "outputs": [
    {
     "name": "stdout",
     "output_type": "stream",
     "text": [
      "      converged: True\n",
      "           flag: 'converged'\n",
      " function_calls: 10\n",
      "     iterations: 5\n",
      "           root: 1.3252308092795797\n",
      "Wall time: 1.99 ms\n"
     ]
    }
   ],
   "source": [
    "%%time\n",
    "r = optimize.root_scalar(f, method='newton', bracket=[-np.pi/2, np.pi/2], x0=1,\n",
    "                         fprime=fprime,xtol=0.0001, rtol=0.0001,maxiter=50)\n",
    "print(r)"
   ]
  },
  {
   "cell_type": "code",
   "execution_count": 6,
   "id": "99be3a81-ccbd-4b26-90cc-e5670fe52272",
   "metadata": {},
   "outputs": [
    {
     "name": "stdout",
     "output_type": "stream",
     "text": [
      "method: brentq\n",
      "      converged: True\n",
      "           flag: 'converged'\n",
      " function_calls: 13\n",
      "     iterations: 12\n",
      "           root: 1.3252308092791896\n",
      "Wall time: 997 µs\n"
     ]
    }
   ],
   "source": [
    "%%time\n",
    "methodswd = ('bisect', 'brentq', 'brenth', 'ridders', 'toms748') \n",
    "selected_method = methodswd[1]\n",
    "r = optimize.root_scalar(f, bracket=[-np.pi/2, np.pi/2], method=selected_method)\n",
    "print('method:', selected_method)\n",
    "print(r)"
   ]
  },
  {
   "cell_type": "code",
   "execution_count": 7,
   "id": "ad2152c2-b188-4163-9865-7776a4ce2c81",
   "metadata": {},
   "outputs": [
    {
     "data": {
      "text/plain": [
       "1.9823131728623846"
      ]
     },
     "execution_count": 7,
     "metadata": {},
     "output_type": "execute_result"
    }
   ],
   "source": [
    "x = -0.4\n",
    "np.arccos(x)"
   ]
  },
  {
   "cell_type": "markdown",
   "id": "328d7cde-27b8-449b-904a-c5049d1c52f7",
   "metadata": {},
   "source": [
    "## Applying the Inverse Cosine to a Right Triangle"
   ]
  },
  {
   "cell_type": "markdown",
   "id": "59407f54-4812-499c-a3eb-9a00d6a895fe",
   "metadata": {},
   "source": [
    "<img src='itrig_funcs_triangle_01.png' width=\"150\" height=\"200\">"
   ]
  },
  {
   "cell_type": "markdown",
   "id": "b2b42e88-a493-4fc1-be5b-9eba5c9a2fbc",
   "metadata": {},
   "source": [
    "$ cos(\\theta) = \\cfrac{9}{12} $"
   ]
  },
  {
   "cell_type": "code",
   "execution_count": 8,
   "id": "47bdf45e-1129-4f5e-8910-43f43f4707e5",
   "metadata": {},
   "outputs": [
    {
     "data": {
      "text/plain": [
       "0.7227342478134157"
      ]
     },
     "execution_count": 8,
     "metadata": {},
     "output_type": "execute_result"
    }
   ],
   "source": [
    "y = 9/12\n",
    "np.arccos(y)"
   ]
  },
  {
   "cell_type": "markdown",
   "id": "c9f8d9bf-24ce-4044-a562-88633b04220d",
   "metadata": {},
   "source": [
    "<img src='itrig_funcs_triangle_02.png' width=\"150\" height=\"200\">"
   ]
  },
  {
   "cell_type": "markdown",
   "id": "29d85174-5f8e-442b-8f93-4bcb777d62cc",
   "metadata": {},
   "source": [
    "$ sin(\\theta) = \\cfrac{6}{10} $"
   ]
  },
  {
   "cell_type": "code",
   "execution_count": 9,
   "id": "9eed1f84-e9b9-4f8b-9fc5-b463cd20208d",
   "metadata": {},
   "outputs": [
    {
     "data": {
      "text/plain": [
       "0.6435011087932844"
      ]
     },
     "execution_count": 9,
     "metadata": {},
     "output_type": "execute_result"
    }
   ],
   "source": [
    "y = 6/10\n",
    "np.arcsin(y)"
   ]
  },
  {
   "cell_type": "markdown",
   "id": "15285d5f-9d98-4e02-8778-e2e9ba312ad5",
   "metadata": {},
   "source": [
    "## Evaluating Compositions of the Form f (f −1(y )) and f −1(f (x ))\n",
    "\n",
    "* $ sin(sin^{−1} x) = x$ for $−1 \\le x \\le 1 $ <br>\n",
    "* $ sin^{−1}(sin x) = x$ only for $ -\\cfrac{\\pi}{2} \\le x \\le \\cfrac{\\pi}{2}]  $ <br>\n",
    "* $ cos(cos^{−1} x) = x$ for $−1 \\le x \\le 1 $ <br>\n",
    "* $ cos^{−1}(cos x) = x$ only for $ 0 \\le x \\le \\pi  $ <br>\n",
    "\n",
    "* $ tan(tan^{−1} x) = x $ for $ -\\infty \\lt x \\lt \\infty $ <br>\n",
    "\n",
    "* $tan^{−1}(tan x) = x $ only for $ − \\cfrac{\\pi}{2} \\lt x \\lt \\cfrac{\\pi}{2} $\n",
    "\n"
   ]
  },
  {
   "cell_type": "markdown",
   "id": "3ae5a112-7a78-49f1-9238-c5ecf70dea60",
   "metadata": {},
   "source": [
    "### Ex. 1. $ sin^{−1} (sin ( \\cfrac{\\pi}{3} )) $"
   ]
  },
  {
   "cell_type": "code",
   "execution_count": 10,
   "id": "6c54f49d-1142-43da-a109-51807741359c",
   "metadata": {},
   "outputs": [
    {
     "data": {
      "text/plain": [
       "True"
      ]
     },
     "execution_count": 10,
     "metadata": {},
     "output_type": "execute_result"
    }
   ],
   "source": [
    "np.pi/3 < np.pi/2 "
   ]
  },
  {
   "cell_type": "markdown",
   "id": "564494d9-70c2-476b-8796-137c4171c569",
   "metadata": {},
   "source": [
    "$ sin^{−1} (sin ( \\cfrac{\\pi}{3} )) = \\cfrac{\\pi}{3}$"
   ]
  },
  {
   "cell_type": "code",
   "execution_count": 112,
   "id": "8661b13b-fea7-4af0-8ad2-fff7502c8f56",
   "metadata": {},
   "outputs": [
    {
     "name": "stdout",
     "output_type": "stream",
     "text": [
      "1.0471975511965976 1.0471975511965976\n"
     ]
    }
   ],
   "source": [
    "print(np.pi/3, np.arcsin(np.sin(np.pi/3)))"
   ]
  },
  {
   "cell_type": "markdown",
   "id": "791f2237-148c-4c64-8a02-ebd8810d1868",
   "metadata": {},
   "source": [
    "### Ex. 2. $ sin^{−1} (sin ( \\cfrac{2 \\pi}{3} )) $"
   ]
  },
  {
   "cell_type": "code",
   "execution_count": 12,
   "id": "825032a6-45c0-43e0-88eb-877c9cc69db0",
   "metadata": {},
   "outputs": [
    {
     "data": {
      "text/plain": [
       "False"
      ]
     },
     "execution_count": 12,
     "metadata": {},
     "output_type": "execute_result"
    }
   ],
   "source": [
    "2*np.pi/3 < np.pi/2 "
   ]
  },
  {
   "cell_type": "markdown",
   "id": "eb87f618-e1f4-481f-be7f-eee9336e0927",
   "metadata": {},
   "source": [
    "$ \\cfrac{2 \\pi}{3} - \\cfrac{\\pi}{2} = \\cfrac{\\pi}{3}   $ <br>\n",
    "$ sin^{−1} (sin ( \\cfrac{2 \\pi}{3} )) = \\cfrac{\\pi}{3} $\n"
   ]
  },
  {
   "cell_type": "code",
   "execution_count": 114,
   "id": "6de9f9d4-956c-4699-bf90-18301b26d0da",
   "metadata": {},
   "outputs": [
    {
     "name": "stdout",
     "output_type": "stream",
     "text": [
      "1.0471975511965976 1.0471975511965979\n"
     ]
    }
   ],
   "source": [
    "print(np.pi/3, np.arcsin(np.sin(2*np.pi/3)))"
   ]
  },
  {
   "cell_type": "markdown",
   "id": "de07d059-4e1b-4f4e-abc7-210bbaa35925",
   "metadata": {},
   "source": [
    "### Ex. 3. $ cos^{−1} (cos ( \\cfrac{2 \\pi}{3} )) $"
   ]
  },
  {
   "cell_type": "code",
   "execution_count": 13,
   "id": "d260f54b-eb14-4ca6-96b0-7f08e126d197",
   "metadata": {},
   "outputs": [
    {
     "data": {
      "text/plain": [
       "True"
      ]
     },
     "execution_count": 13,
     "metadata": {},
     "output_type": "execute_result"
    }
   ],
   "source": [
    "2*np.pi/3 < np.pi "
   ]
  },
  {
   "cell_type": "markdown",
   "id": "25d117f4-20c4-480c-86f2-de88bda499db",
   "metadata": {},
   "source": [
    "$ cos^{−1} (cos ( \\cfrac{2 \\pi}{3} )) = \\cfrac{2 \\pi}{3} $"
   ]
  },
  {
   "cell_type": "markdown",
   "id": "632a751c-ebf1-4470-9630-d37a5a65f7bf",
   "metadata": {},
   "source": [
    "### Ex. 4. $ cos^{−1} (cos ( -\\cfrac{\\pi}{3} )) $"
   ]
  },
  {
   "cell_type": "markdown",
   "id": "e5124982-aa6e-4d29-a306-afe4aa8f76b0",
   "metadata": {},
   "source": [
    "$ cos ( -\\cfrac{\\pi}{3} ) = cos ( \\cfrac{\\pi}{3} ) $ \n",
    "\n",
    "$ cos^{−1} (cos ( \\cfrac{\\pi}{3} )) = \\cfrac{\\pi}{3} )  $"
   ]
  },
  {
   "cell_type": "markdown",
   "id": "b9111a66-eecd-4453-99ab-dbafa6c93dae",
   "metadata": {},
   "source": [
    "### Ex. 5. $ tan^{−1} (tan ( \\cfrac{\\pi}{8} )) $"
   ]
  },
  {
   "cell_type": "code",
   "execution_count": 14,
   "id": "3b8ad137-f02f-4997-8feb-f000691c8d1d",
   "metadata": {},
   "outputs": [
    {
     "data": {
      "text/plain": [
       "True"
      ]
     },
     "execution_count": 14,
     "metadata": {},
     "output_type": "execute_result"
    }
   ],
   "source": [
    "np.pi/8 < np.pi/2 "
   ]
  },
  {
   "cell_type": "markdown",
   "id": "3a0831ba-1dac-48ce-949b-065a4f6edfc9",
   "metadata": {},
   "source": [
    "$ tan^{−1} (tan ( \\cfrac{\\pi}{8} )) = \\cfrac{\\pi}{8} $"
   ]
  },
  {
   "cell_type": "markdown",
   "id": "8bbefe39-f966-4ebd-b8ae-2e08fd15b1b6",
   "metadata": {},
   "source": [
    "### Ex. 6. $ tan^{−1} (tan ( \\cfrac{11\\pi}{9} )) $"
   ]
  },
  {
   "cell_type": "code",
   "execution_count": 15,
   "id": "679e254d-b740-4662-809b-6e96447fb8e1",
   "metadata": {},
   "outputs": [
    {
     "data": {
      "text/plain": [
       "False"
      ]
     },
     "execution_count": 15,
     "metadata": {},
     "output_type": "execute_result"
    }
   ],
   "source": [
    "11/9 < 1/2"
   ]
  },
  {
   "cell_type": "markdown",
   "id": "9a747a0d-c5d4-430f-b3d7-25ddae9b3365",
   "metadata": {},
   "source": [
    "$ \\cfrac{11\\pi}{9} - \\pi = \\cfrac{\\pi}{3} $ , $\\cfrac{\\pi}{3} \\lt \\cfrac{\\pi}{2} $ "
   ]
  },
  {
   "cell_type": "markdown",
   "id": "04a4a3a6-2f77-4bb4-a445-ad798300ab2d",
   "metadata": {},
   "source": [
    "$ tan^{−1} (tan ( \\cfrac{11\\pi}{9} )) = \\cfrac{\\pi}{3} $"
   ]
  },
  {
   "cell_type": "markdown",
   "id": "bbec7c33-2e1c-40b1-bb75-0c93972b5e5b",
   "metadata": {},
   "source": [
    "## Evaluating Compositions of the Form $ f^{−1} (g(x )) $"
   ]
  },
  {
   "cell_type": "markdown",
   "id": "40a4e110-6544-456c-b0a4-b7bbfaf02194",
   "metadata": {},
   "source": [
    "<img src='itrig_funcs_triangle_03.png' width=\"200\" height=\"200\"> <br>\n",
    "\n",
    "Because $ cos \\theta = \\cfrac{b}{c} = sin \\cfrac{\\pi}{2} - \\theta $ , we have $sin^{−1} (cos \\theta) = \\cfrac{\\pi}{2} - \\theta $ if $0 \\le \\theta \\le \\pi$ <br>\n",
    "\n",
    "If $\\theta$ is not in this domain, then we need to find another angle that has the same cosine as $\\theta$ and does belong to the restricted domain; we then subtract this angle from $ \\cfrac{\\pi}{2}$ <br>\n",
    "\n",
    "Similarly, $ sin \\theta = \\cfrac{a}{c} = cos ( \\cfrac{\\pi}{2} − \\theta) $, so $cos^{−1} (sin \\theta) = \\cfrac{\\pi}{2} - \\theta $ if $ − \\cfrac{\\pi}{2} \\le \\theta \\le \\cfrac{\\pi}{2} $ <br>\n",
    "\n",
    "These are just the function-cofunction relationships presented in another way.\n"
   ]
  },
  {
   "cell_type": "markdown",
   "id": "65a700ae-540a-419e-b936-092ed84d2d9f",
   "metadata": {},
   "source": [
    "### Ex. 1. Evaluate $sin^{−1} (cos ( \\cfrac{13 \\pi}{6} )) $"
   ]
  },
  {
   "cell_type": "code",
   "execution_count": 79,
   "id": "e920c20b-3698-433e-bb7a-6ea4c4024b3a",
   "metadata": {},
   "outputs": [
    {
     "name": "stdout",
     "output_type": "stream",
     "text": [
      "a1= 6.806784082777885 ang. [0, 2pi]= 0.5235987755982991 q= 1\n"
     ]
    }
   ],
   "source": [
    "a1 = 13*np.pi/6 \n",
    "print('a1=', a1, 'ang. [0, 2pi]=', a1%(2*np.pi),'q=', quadrant_get(a1))\n"
   ]
  },
  {
   "cell_type": "markdown",
   "id": "7ca2dd84-893f-492f-a702-4e80aef65c8d",
   "metadata": {},
   "source": [
    "$ \\cfrac{13 \\pi}{6} = \\cfrac{\\pi}{6} + 2\\pi $\n",
    "\n",
    "$ cos ( \\cfrac{13 \\pi}{6} ) = cos (\\cfrac{\\pi}{6} + 2\\pi) = cos (\\cfrac{\\pi}{6}) $  \n"
   ]
  },
  {
   "cell_type": "code",
   "execution_count": 85,
   "id": "3babbdc9-c847-47fa-b9e7-4fc81d14eafd",
   "metadata": {},
   "outputs": [
    {
     "data": {
      "text/plain": [
       "29.999999999999996"
      ]
     },
     "execution_count": 85,
     "metadata": {},
     "output_type": "execute_result"
    }
   ],
   "source": [
    "np.rad2deg(np.pi/6)"
   ]
  },
  {
   "cell_type": "markdown",
   "id": "64536520-b248-410a-85ba-80800f5c0816",
   "metadata": {},
   "source": [
    "$sin^{−1} (cos ( \\cfrac{13 \\pi}{6} )) = sin^{−1} (sin (\\cfrac{\\pi}{2}- \\cfrac{\\pi}{6} )) = \\cfrac{\\pi}{2}- \\cfrac{\\pi}{6} = \\cfrac{\\pi}{3}$"
   ]
  },
  {
   "cell_type": "markdown",
   "id": "be95dd07-079e-4fad-bcdc-3225ac8cec51",
   "metadata": {},
   "source": [
    "### Ex. 2. Evaluate $cos^{−1} (sin \\left( -\\cfrac{11 \\pi}{4} \\right) ) $"
   ]
  },
  {
   "cell_type": "code",
   "execution_count": 106,
   "id": "43767912-007a-48a1-9258-d7cf022de874",
   "metadata": {},
   "outputs": [
    {
     "name": "stdout",
     "output_type": "stream",
     "text": [
      "a1= -8.63937979737193 ang. [0, 2pi]= 3.9269908169872423 225.00000000000006 q= 3\n"
     ]
    }
   ],
   "source": [
    "a1 = -11*np.pi/4\n",
    "a2 = a1%(2*np.pi)\n",
    "print('a1=', a1, 'ang. [0, 2pi]=', a2, np.rad2deg(a2),'q=', quadrant_get(a1))"
   ]
  },
  {
   "cell_type": "markdown",
   "id": "f6c77f69-2704-402c-92ca-5f3e6ded6bbf",
   "metadata": {},
   "source": [
    "$ -\\cfrac{11 \\pi}{4}  + 2 \\pi = -\\cfrac{3\\pi}{4} = \\cfrac{5\\pi}{4} $\n",
    "\n",
    "$ sin ( -\\cfrac{11 \\pi}{4} ) = sin( \\cfrac{5 \\pi}{4} ) = sin( \\cfrac{7 \\pi}{4} ) = cos( \\cfrac{7 \\pi}{4} - \\cfrac{\\pi}{2}) = cos(\\cfrac{3 \\pi}{4})$\n",
    "\n",
    "$cos^{−1} (cos ( \\cfrac{3 \\pi}{4} ) ) = \\cfrac{3 \\pi}{4}$"
   ]
  },
  {
   "cell_type": "code",
   "execution_count": 117,
   "id": "ab257cc4-ff95-4307-8f2e-f6a07503ed2e",
   "metadata": {},
   "outputs": [
    {
     "name": "stdout",
     "output_type": "stream",
     "text": [
      "2.356194490192346 2.356194490192345\n"
     ]
    }
   ],
   "source": [
    "# check\n",
    "print(np.arccos(np.sin(a1)), 3*np.pi/4)"
   ]
  },
  {
   "cell_type": "markdown",
   "id": "b3a6191f-2558-4149-b99e-d99207edd611",
   "metadata": {},
   "source": [
    "### Ex 3. Evaluate $ sin \\left( cos^{-1} \\left( \\cfrac{4}{5} \\right) \\right) $"
   ]
  },
  {
   "cell_type": "markdown",
   "id": "6e16cfe3-5e4f-4ddf-81d7-772b278cb012",
   "metadata": {},
   "source": [
    "$ \\theta = cos^{-1} ( \\cfrac{4}{5} ) $\n",
    "\n",
    "$ cos \\theta = 4/5  $\n",
    "\n",
    "$ cos^{2} \\theta + sin^{2} \\theta= 1  $\n",
    "\n",
    "$ sin^{2} \\theta= 1 - cos^{2} \\theta $\n",
    "\n",
    "$ sin^{2} \\theta= 1 - (4/5)^{2} = 1 - \\cfrac{16}{25} $\n",
    "\n",
    "$ sin^{2} \\theta= \\mp \\sqrt{ \\cfrac{9}{25} } = \\mp \\cfrac{3}{5} $\n",
    "\n",
    "We know that the inverse cosine always gives an angle on the interval $[0, \\pi]$, so we know that the sine of that angle must be positive; therefore $ sin \\theta = 3/5 $\n"
   ]
  },
  {
   "cell_type": "code",
   "execution_count": 120,
   "id": "adf6b4b0-7f78-4a80-a88f-25893a2ccc2e",
   "metadata": {},
   "outputs": [
    {
     "name": "stdout",
     "output_type": "stream",
     "text": [
      "-1.1102230246251565e-16\n"
     ]
    }
   ],
   "source": [
    "a1 = 4/5\n",
    "print(np.sin(np.arccos(a1)) - (3/5))"
   ]
  },
  {
   "cell_type": "markdown",
   "id": "262260fc-2f1d-4aef-bc24-2a714849f2ac",
   "metadata": {},
   "source": [
    "### Ex. 4 $ cos (tan^{−1} (\\frac{5}{12} )) $"
   ]
  },
  {
   "cell_type": "markdown",
   "id": "27fe8694-a704-416d-af7b-170751874d46",
   "metadata": {},
   "source": [
    "$ \\theta = tan^{-1} ( \\cfrac{5}{12} ) $\n",
    "\n",
    "$ tan \\theta = 5/12  $\n",
    "\n",
    "$ cos^{2} \\theta + sin^{2} \\theta= 1  $\n",
    "\n",
    "$ 1 + tan^{2} \\theta= \\cfrac{1}{cos^{2} \\theta}  $\n",
    "\n",
    "$ cos^{2} \\theta = \\cfrac{1}{1 + tan^{2} \\theta} = \\cfrac{1}{1 + (\\cfrac{5}{12})^{2}} $"
   ]
  },
  {
   "cell_type": "code",
   "execution_count": 125,
   "id": "85c210f9-e4dc-4486-b471-89844c9af26f",
   "metadata": {},
   "outputs": [],
   "source": [
    "r = np.sqrt( 1 / (1 + (5/12)**2) )"
   ]
  },
  {
   "cell_type": "code",
   "execution_count": 126,
   "id": "fffae05b-4625-459b-a6d9-313a2d4ebda6",
   "metadata": {},
   "outputs": [
    {
     "name": "stdout",
     "output_type": "stream",
     "text": [
      "0.0\n"
     ]
    }
   ],
   "source": [
    "a1 = 5/12\n",
    "print(np.cos(np.arctan(a1)) - r)"
   ]
  },
  {
   "cell_type": "code",
   "execution_count": null,
   "id": "1c9f5fba-1a38-4757-9381-082f4ea5bde4",
   "metadata": {},
   "outputs": [],
   "source": []
  }
 ],
 "metadata": {
  "kernelspec": {
   "display_name": "Python 3 (ipykernel)",
   "language": "python",
   "name": "python3"
  },
  "language_info": {
   "codemirror_mode": {
    "name": "ipython",
    "version": 3
   },
   "file_extension": ".py",
   "mimetype": "text/x-python",
   "name": "python",
   "nbconvert_exporter": "python",
   "pygments_lexer": "ipython3",
   "version": "3.8.13"
  }
 },
 "nbformat": 4,
 "nbformat_minor": 5
}
