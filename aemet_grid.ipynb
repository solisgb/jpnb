{
 "cells": [
  {
   "cell_type": "markdown",
   "metadata": {},
   "source": [
    "# AEMET GRID"
   ]
  },
  {
   "cell_type": "code",
   "execution_count": 4,
   "metadata": {},
   "outputs": [],
   "source": [
    "from datetime import datetime\n",
    "from os.path import splitext, join, basename, dirname\n",
    "import pandas as pd\n",
    "import numpy as np"
   ]
  },
  {
   "cell_type": "markdown",
   "metadata": {},
   "source": [
    "## Rejillas"
   ]
  },
  {
   "cell_type": "markdown",
   "metadata": {},
   "source": [
    "Master files from aemet"
   ]
  },
  {
   "cell_type": "code",
   "execution_count": 13,
   "metadata": {},
   "outputs": [],
   "source": [
    "maestros = (r'E:\\db02\\aemet\\Serie_AEMET_v2_pcp_1951a202006_txt\\maestro_red_hr_SPAIN.txt',\n",
    "            r'E:\\db02\\aemet\\Serie_AEMET_v1_tmin_1951a202006_txt\\maestro_red_hr_tmin.txt',\n",
    "            r'E:\\db02\\aemet\\Serie_AEMET_v1_tmax_1951a202006_txt\\maestro_red_hr_tmax.txt')\n",
    "dir_out = r'E:\\IGME20\\20201215_aquifer\\_data\\aemet_grid'"
   ]
  },
  {
   "cell_type": "code",
   "execution_count": 20,
   "metadata": {},
   "outputs": [
    {
     "name": "stdout",
     "output_type": "stream",
     "text": [
      "E:\\db02\\aemet\\Serie_AEMET_v2_pcp_1951a202006_txt\\maestro_red_hr_SPAIN.txt\n",
      "   1  -2.948  35.307   102.\n",
      "0  2  -5.323  35.898   58.0\n",
      "1  3  -5.630  36.049  124.0\n",
      "2  4  -5.568  36.049  186.0\n",
      "3  5  -5.507  36.049  163.0\n",
      "4  6  -5.815  36.100   49.0\n",
      "(16155, 4)\n",
      "E:\\db02\\aemet\\Serie_AEMET_v1_tmin_1951a202006_txt\\maestro_red_hr_tmin.txt\n",
      "   1  -2.948  35.307   102.\n",
      "0  2  -5.323  35.898   58.0\n",
      "1  3  -5.630  36.049  124.0\n",
      "2  4  -5.568  36.049  186.0\n",
      "3  5  -5.507  36.049  163.0\n",
      "4  6  -5.815  36.100   49.0\n",
      "(16155, 4)\n",
      "E:\\db02\\aemet\\Serie_AEMET_v1_tmax_1951a202006_txt\\maestro_red_hr_tmax.txt\n",
      "   1  -2.948  35.307   102.\n",
      "0  2  -5.323  35.898   58.0\n",
      "1  3  -5.630  36.049  124.0\n",
      "2  4  -5.568  36.049  186.0\n",
      "3  5  -5.507  36.049  163.0\n",
      "4  6  -5.815  36.100   49.0\n",
      "(16155, 4)\n"
     ]
    }
   ],
   "source": [
    "for f0 in maestros:\n",
    "    print(f0)\n",
    "    df = pd.read_csv(f0, sep='\\s+')\n",
    "    print(df.head())\n",
    "    print(df.shape)"
   ]
  },
  {
   "cell_type": "markdown",
   "metadata": {},
   "source": [
    "Now I change the format to csv"
   ]
  },
  {
   "cell_type": "code",
   "execution_count": 25,
   "metadata": {},
   "outputs": [
    {
     "name": "stdout",
     "output_type": "stream",
     "text": [
      "E:\\IGME20\\20201215_aquifer\\_data\\aemet_grid\\maestro_p.csv\n",
      "E:\\IGME20\\20201215_aquifer\\_data\\aemet_grid\\maestro_tmin.csv\n",
      "E:\\IGME20\\20201215_aquifer\\_data\\aemet_grid\\maestro_tmax.csv\n",
      "fin\n"
     ]
    }
   ],
   "source": [
    "for f0, new_name in zip(maestros, ('maestro_p.csv', 'maestro_tmin.csv', 'maestro_tmax.csv') ):\n",
    "    file_out = join(dir_out, new_name)\n",
    "    print(file_out)\n",
    "    df = pd.read_csv(f0, sep='\\s+', header = None, names= ('gid', 'lon', 'lat', 'z'), encoding='utf-8')\n",
    "    df.to_csv(file_out, index=False, encoding='utf-8', float_format='%.2f')\n",
    "print('fin')"
   ]
  },
  {
   "cell_type": "markdown",
   "metadata": {},
   "source": [
    "## Data"
   ]
  },
  {
   "cell_type": "markdown",
   "metadata": {},
   "source": [
    "### grid poins en Campo de Cartagena + Triásico de los Victorias con un buffer de 1 km dissolved"
   ]
  },
  {
   "cell_type": "code",
   "execution_count": 49,
   "metadata": {},
   "outputs": [
    {
     "name": "stdout",
     "output_type": "stream",
     "text": [
      "Index(['gid', 'lat', 'lon', 'z'], dtype='object')\n",
      "[1877, 1878, 1879, 1880, 1881, 1982, 1983, 1984, 1985, 1986, 1987, 1988, 2085, 2086, 2087, 2088, 2089, 2090, 2091, 2092, 2187, 2188, 2189, 2190, 2191, 2192, 2193, 2194, 2291, 2292, 2293, 2294, 2295, 2296, 2297, 2394, 2395, 2396, 2397, 2398, 2399, 2400, 2495, 2496, 2497, 2498, 2499, 2500, 2501, 2597, 2598, 2599, 2600, 2699]\n"
     ]
    }
   ],
   "source": [
    "df_points = pd.read_csv(r'E:\\IGME20\\20201215_aquifer\\qgis\\aemet_grid\\lyrs\\selected_points.csv', delimiter=\",\", converters = {'gid': np.int64})\n",
    "print(df_points.columns)\n",
    "points = [int(row.gid) for index, row in df_points.iterrows()]\n",
    "print(points)"
   ]
  },
  {
   "cell_type": "code",
   "execution_count": 50,
   "metadata": {},
   "outputs": [],
   "source": [
    "data_files = (r'E:\\db02\\aemet\\Serie_AEMET_v2_pcp_1951a202006_txt\\pcp_red_SPAIN_1951-20200630.txt',\n",
    "              r'E:\\db02\\aemet\\Serie_AEMET_v1_tmin_1951a202006_txt\\tmin_red_SPAIN_1951-20200630.txt',\n",
    "              r'E:\\db02\\aemet\\Serie_AEMET_v1_tmax_1951a202006_txt\\tmax_red_SPAIN_1951-20200630.txt')"
   ]
  },
  {
   "cell_type": "markdown",
   "metadata": {},
   "source": [
    "The process below is time consuming; if the aemet data files are not changed don't run it again"
   ]
  },
  {
   "cell_type": "code",
   "execution_count": 52,
   "metadata": {},
   "outputs": [
    {
     "name": "stdout",
     "output_type": "stream",
     "text": [
      "E:\\db02\\aemet\\Serie_AEMET_v2_pcp_1951a202006_txt\\pcp_red_SPAIN_1951-20200630.txt\n",
      "   19510101  0.37   8.05  17.80  17.89  16.11  15.42  15.96  16.79  18.46  \\\n",
      "0  19510102  4.29  18.46   8.65   9.47  10.30   6.03   5.98   6.18   6.86   \n",
      "1  19510103  0.00   1.55   0.00   0.93   1.65   0.00   0.00   0.00   0.89   \n",
      "2  19510104  0.00   0.32   2.01   1.99   1.92   2.02   2.16   2.27   2.30   \n",
      "3  19510105  0.00   0.00   0.00   0.00   0.00   0.00   0.00   0.00   0.00   \n",
      "4  19510106  0.00   0.00   0.00   0.00   0.00   0.00   0.00   0.00   0.00   \n",
      "\n",
      "   ...  24.89  23.23.2  21.89  20.60  25.13.3  24.03  23.06  23.01.1  22.63.1  \\\n",
      "0  ...  19.31    19.80  20.05  20.13    14.14  15.59  16.81    17.68    18.37   \n",
      "1  ...   3.17     2.83   2.55   2.27     0.98   1.04   1.13     1.47     1.68   \n",
      "2  ...   0.25     0.26   0.25   0.24     0.23   0.30   0.33     0.31     0.30   \n",
      "3  ...   0.00     0.00   0.00   0.00     0.00   0.00   0.00     0.00     0.00   \n",
      "4  ...   0.07     0.09   0.10   0.10     0.00   0.00   0.00     0.03     0.05   \n",
      "\n",
      "   19.48.4  \n",
      "0    19.40  \n",
      "1     1.13  \n",
      "2     0.32  \n",
      "3     0.00  \n",
      "4     0.11  \n",
      "\n",
      "[5 rows x 16157 columns]\n",
      "(25383, 16157)\n",
      "E:\\db02\\aemet\\Serie_AEMET_v1_tmin_1951a202006_txt\\tmin_red_SPAIN_1951-20200630.txt\n",
      "   19510101  5.62   8.71   7.75  7.59   8.12   8.28  7.46  7.25  6.87  ...  \\\n",
      "0  19510102  8.35  10.82  10.01  9.79  10.32  10.70  9.85  9.57  9.10  ...   \n",
      "1  19510103  7.55   8.80   7.67  7.52   8.08   8.21  7.39  7.14  6.77  ...   \n",
      "2  19510104  6.57   8.47   7.32  7.22   7.79   7.72  6.94  6.75  6.50  ...   \n",
      "3  19510105  6.72   9.87   8.84  8.72   9.22   9.34  8.53  8.28  8.00  ...   \n",
      "4  19510106  7.05  10.18   9.24  9.05   9.55   9.80  8.93  8.68  8.30  ...   \n",
      "\n",
      "   6.09.8  6.31.8  6.56.4  6.84.5  6.81.4  7.15.1  7.50.1  7.15.2  7.18.1  \\\n",
      "0    4.32    4.48    4.66    4.91    5.10    5.38    5.70    5.32    5.32   \n",
      "1    3.80    4.02    4.24    4.52    4.52    4.86    5.21    4.86    4.89   \n",
      "2    5.25    5.47    5.69    5.94    6.22    6.60    6.91    6.50    6.47   \n",
      "3    8.22    8.47    8.69    8.97    9.12    9.50    9.87    9.47    9.47   \n",
      "4    9.37    9.55    9.74    9.99   10.18   10.43   10.74   10.37   10.43   \n",
      "\n",
      "   7.93.1  \n",
      "0    6.01  \n",
      "1    5.64  \n",
      "2    7.19  \n",
      "3   10.25  \n",
      "4   11.05  \n",
      "\n",
      "[5 rows x 16157 columns]\n",
      "(25383, 16157)\n",
      "E:\\db02\\aemet\\Serie_AEMET_v1_tmax_1951a202006_txt\\tmax_red_SPAIN_1951-20200630.txt\n",
      "   19510101  14.71  14.96  14.77  14.27  13.90  14.86  15.33  14.93  14.18  \\\n",
      "0  19510102  14.77  15.27  15.02  14.46  14.15  15.08  15.58  15.15  14.33   \n",
      "1  19510103  14.07  13.95  13.82  13.38  13.01  13.88  14.38  14.01  13.38   \n",
      "2  19510104  14.95  14.95  14.70  14.26  13.88  14.70  15.20  14.82  14.13   \n",
      "3  19510105  13.92  14.04  13.98  13.67  13.23  13.98  14.48  14.17  13.73   \n",
      "4  19510106  14.95  14.64  14.51  14.14  13.76  14.39  14.95  14.64  14.14   \n",
      "\n",
      "   ...  10.65.46  11.05.43  11.30.36  11.30.37  10.58.51  11.11.47  11.30.38  \\\n",
      "0  ...      9.40      9.77      9.90      9.90      9.46      9.96     10.15   \n",
      "1  ...     10.32     10.70     10.88     10.88     10.45     10.95     11.13   \n",
      "2  ...     13.88     14.32     14.57     14.63     13.63     14.20     14.38   \n",
      "3  ...     15.85     16.17     16.29     16.29     15.67     16.04     16.17   \n",
      "4  ...     14.82     15.14     15.32     15.26     14.64     15.01     15.07   \n",
      "\n",
      "   11.43.36  11.24.40  11.80.35  \n",
      "0     10.21      9.96     10.40  \n",
      "1     11.20     10.95     11.51  \n",
      "2     14.57     14.45     15.01  \n",
      "3     16.35     16.17     16.54  \n",
      "4     15.32     15.14     15.51  \n",
      "\n",
      "[5 rows x 16157 columns]\n",
      "(25383, 16157)\n",
      "Time elapsed (hh:mm:ss) 0:25:11.693526\n"
     ]
    }
   ],
   "source": [
    "start_time = datetime.now() \n",
    "for f1 in data_files:\n",
    "    print(f1)\n",
    "    df = pd.read_csv(f1, sep='\\s+')\n",
    "    print(df.head())\n",
    "    print(df.shape) \n",
    "print('Time elapsed (hh:mm:ss) {}'.format(datetime.now() - start_time))"
   ]
  },
  {
   "cell_type": "markdown",
   "metadata": {},
   "source": [
    "<b>The points of interest has beeen selected by intersecting the grid points of aemet with the the union of aquifers CC + TV with a 1km buffer<br>\n",
    "and manually adding other points near the buffer</b><br>Write the list of points as integers"
   ]
  },
  {
   "cell_type": "code",
   "execution_count": 31,
   "metadata": {},
   "outputs": [
    {
     "name": "stdout",
     "output_type": "stream",
     "text": [
      "[1877, 1878, 1879, 1880, 1881, 1982, 1983, 1984, 1985, 1986, 1987, 1988, 2085, 2086, 2087, 2088, 2089, 2090, 2091, 2092, 2187, 2188, 2189, 2190, 2191, 2192, 2193, 2194, 2291, 2292, 2293, 2294, 2295, 2296, 2297, 2394, 2395, 2396, 2397, 2398, 2399, 2400, 2495, 2496, 2497, 2498, 2499, 2500, 2501, 2597, 2598, 2599, 2600, 2699]\n",
      "54\n"
     ]
    }
   ],
   "source": [
    "points = [1877, 1878, 1879, 1880, 1881, 1982, 1983, 1984, 1985, 1986, 1987, 1988, 2085, 2086, 2087, 2088, 2089, 2090, 2091, 2092, 2187, 2188, 2189, 2190, 2191, 2192, 2193, 2194, 2291, 2292, 2293, 2294, 2295, 2296, 2297, 2394, 2395, 2396, 2397, 2398, 2399, 2400, 2495, 2496, 2497, 2498, 2499, 2500, 2501, 2597, 2598, 2599, 2600, 2699]\n",
    "points.sort()\n",
    "print(points)\n",
    "print(len(points))"
   ]
  },
  {
   "cell_type": "markdown",
   "metadata": {},
   "source": [
    "<b>A new set of centroids to extract after the above set</b><br>Observe that the name of the list is the same"
   ]
  },
  {
   "cell_type": "code",
   "execution_count": 10,
   "metadata": {},
   "outputs": [
    {
     "name": "stdout",
     "output_type": "stream",
     "text": [
      "[1882, 2084, 2393, 2596, 2698]\n",
      "5\n"
     ]
    }
   ],
   "source": [
    "points = [2393, 2596, 2698, 1882, 2084]\n",
    "points.sort()\n",
    "print(points)\n",
    "print(len(points))"
   ]
  },
  {
   "cell_type": "markdown",
   "metadata": {},
   "source": [
    "Path to the 3 original files of aemet. I avoid inserting the whole content of the files in the database"
   ]
  },
  {
   "cell_type": "code",
   "execution_count": 6,
   "metadata": {},
   "outputs": [],
   "source": [
    "data_files = (r'E:\\IGME20\\20201215_aquifer\\_data\\aemet_grid\\originales\\data\\pcp_red_SPAIN_1951-20200630.txt',\n",
    "              r'E:\\IGME20\\20201215_aquifer\\_data\\aemet_grid\\originales\\data\\tmin_red_SPAIN_1951-20200630.txt',\n",
    "              r'E:\\IGME20\\20201215_aquifer\\_data\\aemet_grid\\originales\\data\\tmax_red_SPAIN_1951-20200630.txt')"
   ]
  },
  {
   "cell_type": "markdown",
   "metadata": {},
   "source": [
    "<b>I open the aemet file using the data_files but reading only the columns of points inside zone of interest<br>\n",
    "Here I open aemet file with pandas and save it to a csv</b><br>\n",
    "If you have a prior file it will ve overwritted; change the prior file name if you want to preserver it "
   ]
  },
  {
   "cell_type": "code",
   "execution_count": 11,
   "metadata": {},
   "outputs": [
    {
     "name": "stdout",
     "output_type": "stream",
     "text": [
      "E:\\IGME20\\20201215_aquifer\\_data\\aemet_grid\\originales\\data\\pcp_red_SPAIN_1951-20200630.txt\n",
      "E:\\IGME20\\20201215_aquifer\\_data\\aemet_grid\\originales\\data\\tmin_red_SPAIN_1951-20200630.txt\n",
      "E:\\IGME20\\20201215_aquifer\\_data\\aemet_grid\\originales\\data\\tmax_red_SPAIN_1951-20200630.txt\n",
      "Time elapsed (hh:mm:ss) 0:08:08.513960\n"
     ]
    }
   ],
   "source": [
    "start_time = datetime.now() \n",
    "headers = [0] + points\n",
    "for f2 in data_files:\n",
    "    print(f2)\n",
    "    df = pd.read_csv(f2, sep='\\s+', header = None, names= headers, usecols= headers, encoding='utf-8', converters={0: str})\n",
    "    name, extension = splitext(f2)\n",
    "    output = name + '.csv'\n",
    "    df.to_csv(output, index=False, encoding='utf-8')\n",
    "print('Time elapsed (hh:mm:ss) {}'.format(datetime.now() - start_time))"
   ]
  },
  {
   "cell_type": "markdown",
   "metadata": {},
   "source": [
    "Now I change the csv aemet format with the selected columns (points) to a new ccv format in wich each row is the point, date and variable (pec, tmin, tmax<br>\n",
    "Each variable is writed in is own file (total 3 files) "
   ]
  },
  {
   "cell_type": "code",
   "execution_count": 13,
   "metadata": {},
   "outputs": [
    {
     "name": "stdout",
     "output_type": "stream",
     "text": [
      "E:\\IGME20\\20201215_aquifer\\_data\\aemet_grid\\originales\\output\\serie_p.csv\n",
      "E:\\IGME20\\20201215_aquifer\\_data\\aemet_grid\\originales\\output\\serie_tmin.csv\n",
      "E:\\IGME20\\20201215_aquifer\\_data\\aemet_grid\\originales\\output\\serie_tmax.csv\n",
      "Time elapsed (hh:mm:ss) 0:00:02.479330\n"
     ]
    }
   ],
   "source": [
    "start_time = datetime.now() \n",
    "files = (r'E:\\IGME20\\20201215_aquifer\\_data\\aemet_grid\\originales\\data\\pcp_red_SPAIN_1951-20200630.csv',\n",
    "         r'E:\\IGME20\\20201215_aquifer\\_data\\aemet_grid\\originales\\data\\tmin_red_SPAIN_1951-20200630.csv',\n",
    "         r'E:\\IGME20\\20201215_aquifer\\_data\\aemet_grid\\originales\\data\\tmax_red_SPAIN_1951-20200630.csv')\n",
    "dir_out = r'E:\\IGME20\\20201215_aquifer\\_data\\aemet_grid\\originales\\output'\n",
    "\n",
    "with open(files[0], 'r') as fi:\n",
    "    for i, line in enumerate(fi):\n",
    "        if i == 0:\n",
    "            headers = line.strip().split(',')\n",
    "            break\n",
    "\n",
    "for file, newname in zip(files, ('serie_p', 'serie_tmin', 'serie_tmax')):\n",
    "    output = join(dir_out, f'{newname}.csv')\n",
    "    print(output)\n",
    "    with open(file, 'r') as fi, open(output, 'w') as fo:\n",
    "        for i, line in enumerate(fi):\n",
    "            if i == 0:\n",
    "                fo.write('\"gid\",\"fecha\",\"value\"\\n')\n",
    "                continue\n",
    "            words = line.strip().split(',')\n",
    "            for h1, w1 in zip(headers[1:], words[1:]):\n",
    "                fecha = f'{words[0][0:4]}-{words[0][4:6]}-{words[0][6:8]}'\n",
    "                fo.write(f'{h1},{fecha},{w1}\\n')\n",
    "print('Time elapsed (hh:mm:ss) {}'.format(datetime.now() - start_time))"
   ]
  },
  {
   "cell_type": "markdown",
   "metadata": {},
   "source": [
    "Finally I merge the 3 files in one with structure of the table if the db"
   ]
  },
  {
   "cell_type": "code",
   "execution_count": 15,
   "metadata": {},
   "outputs": [
    {
     "name": "stdout",
     "output_type": "stream",
     "text": [
      "Time elapsed (hh:mm:ss) 0:00:03.555424\n"
     ]
    }
   ],
   "source": [
    "start_time = datetime.now() \n",
    "files_merge = [r'E:\\IGME20\\20201215_aquifer\\_data\\aemet_grid\\originales\\output\\serie_p.csv',\n",
    "               r'E:\\IGME20\\20201215_aquifer\\_data\\aemet_grid\\originales\\output\\serie_tmin.csv',\n",
    "               r'E:\\IGME20\\20201215_aquifer\\_data\\aemet_grid\\originales\\output\\serie_tmax.csv']\n",
    "file_ouput = join(dir_out,'p_tmin_tmax_cctv.csv')\n",
    "with open(files_merge[0], 'r') as f0, open(files_merge[1], 'r') as f1, open(files_merge[2], 'r') as f2, open(file_ouput, 'w') as fo:\n",
    "    fo.write('gid,fecha,pmm,tmingc,tmaxgc\\n')\n",
    "    for i, (line0, line1, line2) in enumerate(zip(f0, f1, f2)):\n",
    "        if i == 0:\n",
    "            continue\n",
    "        line0 = line0.strip()\n",
    "        tmin = line1.strip().split(',')[-1]\n",
    "        tmax = line2.strip().split(',')[-1]\n",
    "        fo.write(f'{line0},{tmin},{tmax}\\n')\n",
    "print('Time elapsed (hh:mm:ss) {}'.format(datetime.now() - start_time))"
   ]
  },
  {
   "cell_type": "markdown",
   "metadata": {},
   "source": [
    "This last file is imported to the db with the psql command"
   ]
  },
  {
   "cell_type": "raw",
   "metadata": {},
   "source": [
    "\\copy aemet.grid5data from 'E:\\IGME20\\20201215_aquifer\\_data\\aemet_grid\\originales\\output\\p_tmin_tmax_cctv.csv' with CSV header delimiter ',' encoding 'UTF-8'"
   ]
  },
  {
   "cell_type": "code",
   "execution_count": null,
   "metadata": {},
   "outputs": [],
   "source": []
  }
 ],
 "metadata": {
  "kernelspec": {
   "display_name": "Python 3",
   "language": "python",
   "name": "python3"
  },
  "language_info": {
   "codemirror_mode": {
    "name": "ipython",
    "version": 3
   },
   "file_extension": ".py",
   "mimetype": "text/x-python",
   "name": "python",
   "nbconvert_exporter": "python",
   "pygments_lexer": "ipython3",
   "version": "3.8.5"
  }
 },
 "nbformat": 4,
 "nbformat_minor": 4
}
