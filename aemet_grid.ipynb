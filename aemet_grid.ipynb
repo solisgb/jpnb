{
 "cells": [
  {
   "cell_type": "markdown",
   "id": "cec26707-e670-47fd-a70f-bf7077ac0419",
   "metadata": {},
   "source": [
    "# Rejilla de datos diarios de P y T de AEMET discretización 5 km\n",
    "https://www.aemet.es/es/serviciosclimaticos/cambio_climat/datos_diarios?w=2<br>\n"
   ]
  },
  {
   "cell_type": "code",
   "execution_count": 4,
   "id": "b305f342-c10d-45bf-af49-a874b25ad6bb",
   "metadata": {},
   "outputs": [],
   "source": [
    "import pandas as pd\n",
    "import numpy as np\n",
    "import time"
   ]
  },
  {
   "cell_type": "markdown",
   "id": "ef64c790-07c0-4654-bc58-40f67ae856c3",
   "metadata": {},
   "source": [
    "## Rejillas\n",
    "Las 3 rejillas de pdia, tmindia y tmaxdia son iguales "
   ]
  },
  {
   "cell_type": "code",
   "execution_count": 43,
   "id": "29a2029d-96a2-471f-a24c-3a25b4616323",
   "metadata": {},
   "outputs": [
    {
     "name": "stdout",
     "output_type": "stream",
     "text": [
      "   id    lon     lat      z\n",
      "0   1 -2.948  35.307  102.0\n",
      "1   2 -5.323  35.898   58.0\n",
      "2   3 -5.630  36.049  124.0\n",
      "...\n",
      "   id    lon     lat      z\n",
      "0   1 -2.948  35.307  102.0\n",
      "1   2 -5.323  35.898   58.0\n",
      "2   3 -5.630  36.049  124.0\n",
      "...\n",
      "   id    lon     lat      z\n",
      "0   1 -2.948  35.307  102.0\n",
      "1   2 -5.323  35.898   58.0\n",
      "2   3 -5.630  36.049  124.0\n",
      "...\n"
     ]
    }
   ],
   "source": [
    "fgrids = ('.\\\\pcp_1951a2021\\\\maestro_red_hr_SPAIN.txt',\n",
    "          '.\\\\tmin_1951a2021\\maestro_red_hr_tmin.txt',\n",
    "          '.\\\\tmax_1951a2021\\maestro_red_hr_tmax.txt')\n",
    "\n",
    "for f in fgrids:\n",
    "    df = pd.read_csv(f, delim_whitespace=True, header=None, names=('id', 'lon', 'lat', 'z'))\n",
    "    print(df.head(3))\n",
    "    print('...')"
   ]
  },
  {
   "cell_type": "code",
   "execution_count": 42,
   "id": "bb3d2ebb-a92f-40d3-8f4c-75f0197638a5",
   "metadata": {},
   "outputs": [],
   "source": [
    "fo = 'maestro_red_hr_SPAIN.csv'\n",
    "df.to_csv(fo, index=False)"
   ]
  },
  {
   "cell_type": "markdown",
   "id": "5515a9cd-5a5e-4713-b504-cd7408465cf4",
   "metadata": {},
   "source": [
    "## Read txt file of Pd provided by AEMET\n",
    "### Read Daily P"
   ]
  },
  {
   "cell_type": "code",
   "execution_count": 31,
   "id": "8d54f0e4-6be4-4198-b3bf-5d86ec1c6092",
   "metadata": {},
   "outputs": [
    {
     "data": {
      "text/html": [
       "<div>\n",
       "<style scoped>\n",
       "    .dataframe tbody tr th:only-of-type {\n",
       "        vertical-align: middle;\n",
       "    }\n",
       "\n",
       "    .dataframe tbody tr th {\n",
       "        vertical-align: top;\n",
       "    }\n",
       "\n",
       "    .dataframe thead th {\n",
       "        text-align: right;\n",
       "    }\n",
       "</style>\n",
       "<table border=\"1\" class=\"dataframe\">\n",
       "  <thead>\n",
       "    <tr style=\"text-align: right;\">\n",
       "      <th></th>\n",
       "      <th>0</th>\n",
       "      <th>1</th>\n",
       "      <th>2</th>\n",
       "      <th>3</th>\n",
       "      <th>4</th>\n",
       "      <th>5</th>\n",
       "      <th>6</th>\n",
       "      <th>7</th>\n",
       "      <th>8</th>\n",
       "      <th>9</th>\n",
       "      <th>...</th>\n",
       "      <th>16147</th>\n",
       "      <th>16148</th>\n",
       "      <th>16149</th>\n",
       "      <th>16150</th>\n",
       "      <th>16151</th>\n",
       "      <th>16152</th>\n",
       "      <th>16153</th>\n",
       "      <th>16154</th>\n",
       "      <th>16155</th>\n",
       "      <th>16156</th>\n",
       "    </tr>\n",
       "  </thead>\n",
       "  <tbody>\n",
       "    <tr>\n",
       "      <th>0</th>\n",
       "      <td>1951-01-01</td>\n",
       "      <td>0.37</td>\n",
       "      <td>8.05</td>\n",
       "      <td>17.80</td>\n",
       "      <td>17.89</td>\n",
       "      <td>16.11</td>\n",
       "      <td>15.42</td>\n",
       "      <td>15.96</td>\n",
       "      <td>16.79</td>\n",
       "      <td>18.46</td>\n",
       "      <td>...</td>\n",
       "      <td>24.89</td>\n",
       "      <td>23.23</td>\n",
       "      <td>21.89</td>\n",
       "      <td>20.60</td>\n",
       "      <td>25.13</td>\n",
       "      <td>24.03</td>\n",
       "      <td>23.06</td>\n",
       "      <td>23.01</td>\n",
       "      <td>22.63</td>\n",
       "      <td>19.48</td>\n",
       "    </tr>\n",
       "    <tr>\n",
       "      <th>1</th>\n",
       "      <td>1951-01-02</td>\n",
       "      <td>4.29</td>\n",
       "      <td>18.46</td>\n",
       "      <td>8.65</td>\n",
       "      <td>9.47</td>\n",
       "      <td>10.30</td>\n",
       "      <td>6.03</td>\n",
       "      <td>5.98</td>\n",
       "      <td>6.18</td>\n",
       "      <td>6.86</td>\n",
       "      <td>...</td>\n",
       "      <td>19.31</td>\n",
       "      <td>19.80</td>\n",
       "      <td>20.05</td>\n",
       "      <td>20.13</td>\n",
       "      <td>14.14</td>\n",
       "      <td>15.59</td>\n",
       "      <td>16.81</td>\n",
       "      <td>17.68</td>\n",
       "      <td>18.37</td>\n",
       "      <td>19.40</td>\n",
       "    </tr>\n",
       "    <tr>\n",
       "      <th>2</th>\n",
       "      <td>1951-01-03</td>\n",
       "      <td>0.00</td>\n",
       "      <td>1.55</td>\n",
       "      <td>0.00</td>\n",
       "      <td>0.93</td>\n",
       "      <td>1.65</td>\n",
       "      <td>0.00</td>\n",
       "      <td>0.00</td>\n",
       "      <td>0.00</td>\n",
       "      <td>0.89</td>\n",
       "      <td>...</td>\n",
       "      <td>3.17</td>\n",
       "      <td>2.83</td>\n",
       "      <td>2.55</td>\n",
       "      <td>2.27</td>\n",
       "      <td>0.98</td>\n",
       "      <td>1.04</td>\n",
       "      <td>1.13</td>\n",
       "      <td>1.47</td>\n",
       "      <td>1.68</td>\n",
       "      <td>1.13</td>\n",
       "    </tr>\n",
       "    <tr>\n",
       "      <th>3</th>\n",
       "      <td>1951-01-04</td>\n",
       "      <td>0.00</td>\n",
       "      <td>0.32</td>\n",
       "      <td>2.01</td>\n",
       "      <td>1.99</td>\n",
       "      <td>1.92</td>\n",
       "      <td>2.02</td>\n",
       "      <td>2.16</td>\n",
       "      <td>2.27</td>\n",
       "      <td>2.30</td>\n",
       "      <td>...</td>\n",
       "      <td>0.25</td>\n",
       "      <td>0.26</td>\n",
       "      <td>0.25</td>\n",
       "      <td>0.24</td>\n",
       "      <td>0.23</td>\n",
       "      <td>0.30</td>\n",
       "      <td>0.33</td>\n",
       "      <td>0.31</td>\n",
       "      <td>0.30</td>\n",
       "      <td>0.32</td>\n",
       "    </tr>\n",
       "  </tbody>\n",
       "</table>\n",
       "<p>4 rows × 16157 columns</p>\n",
       "</div>"
      ],
      "text/plain": [
       "       0      1      2      3      4      5      6      7      8      9      \\\n",
       "0 1951-01-01   0.37   8.05  17.80  17.89  16.11  15.42  15.96  16.79  18.46   \n",
       "1 1951-01-02   4.29  18.46   8.65   9.47  10.30   6.03   5.98   6.18   6.86   \n",
       "2 1951-01-03   0.00   1.55   0.00   0.93   1.65   0.00   0.00   0.00   0.89   \n",
       "3 1951-01-04   0.00   0.32   2.01   1.99   1.92   2.02   2.16   2.27   2.30   \n",
       "\n",
       "   ...  16147  16148  16149  16150  16151  16152  16153  16154  16155  16156  \n",
       "0  ...  24.89  23.23  21.89  20.60  25.13  24.03  23.06  23.01  22.63  19.48  \n",
       "1  ...  19.31  19.80  20.05  20.13  14.14  15.59  16.81  17.68  18.37  19.40  \n",
       "2  ...   3.17   2.83   2.55   2.27   0.98   1.04   1.13   1.47   1.68   1.13  \n",
       "3  ...   0.25   0.26   0.25   0.24   0.23   0.30   0.33   0.31   0.30   0.32  \n",
       "\n",
       "[4 rows x 16157 columns]"
      ]
     },
     "execution_count": 31,
     "metadata": {},
     "output_type": "execute_result"
    }
   ],
   "source": [
    "f = '.\\\\pcp_1951a2021\\\\pcp_red_SPAIN_1951-2021.txt'\n",
    "df = pd.read_csv(f, delim_whitespace=True, header=None, nrows=4, parse_dates=[0])\n",
    "df.head()"
   ]
  },
  {
   "cell_type": "code",
   "execution_count": 32,
   "id": "163d1a6e-48fe-41dd-b0bb-2215c5981786",
   "metadata": {},
   "outputs": [
    {
     "data": {
      "text/plain": [
       "16156"
      ]
     },
     "execution_count": 32,
     "metadata": {},
     "output_type": "execute_result"
    }
   ],
   "source": [
    "cols = [c for c in df]\n",
    "float32_cols = {c: np.float32 for c in cols[1:]}\n",
    "len(float_cols)"
   ]
  },
  {
   "cell_type": "code",
   "execution_count": 33,
   "id": "2d68b207-b38d-4865-8050-3fd300594452",
   "metadata": {},
   "outputs": [
    {
     "name": "stdout",
     "output_type": "stream",
     "text": [
      "7.40 min\n"
     ]
    }
   ],
   "source": [
    "t0 = time.time()\n",
    "df = pd.read_csv(f, delim_whitespace=True, header=None, parse_dates=[0], engine='c', dtype=float32_cols)\n",
    "t1 = (time.time() - t0) / 60.\n",
    "print(f'{t1:0.2f} min')"
   ]
  },
  {
   "cell_type": "markdown",
   "id": "cc0dd54f-97ed-4ad0-9168-81e2f453d610",
   "metadata": {},
   "source": [
    "### Save daily P df to parquet / feather file format\n",
    "Column's names must be strings"
   ]
  },
  {
   "cell_type": "code",
   "execution_count": 34,
   "id": "90822cac-f26e-45ae-819b-33f6dab9b909",
   "metadata": {},
   "outputs": [
    {
     "name": "stdout",
     "output_type": "stream",
     "text": [
      "312 µs ± 35 µs per loop (mean ± std. dev. of 7 runs, 1,000 loops each)\n"
     ]
    }
   ],
   "source": [
    "%%timeit\n",
    "df.columns = df.columns.astype(str)"
   ]
  },
  {
   "cell_type": "code",
   "execution_count": 37,
   "id": "e6bf29dc-7795-487f-92ad-fd2e42ce9f85",
   "metadata": {},
   "outputs": [
    {
     "name": "stdout",
     "output_type": "stream",
     "text": [
      "0.41 min\n"
     ]
    }
   ],
   "source": [
    "fo = '.\\\\pcp_1951a2021\\\\pcp_red_SPAIN_1951-202.parquet'\n",
    "\n",
    "t0 = time.time()\n",
    "df.to_parquet(fo, engine = 'fastparquet')\n",
    "t1 = (time.time() - t0) / 60.\n",
    "print(f'{t1:0.2f} min')"
   ]
  },
  {
   "cell_type": "code",
   "execution_count": 38,
   "id": "d696ec40-1dc0-422c-b8fe-5510af69b273",
   "metadata": {},
   "outputs": [
    {
     "name": "stdout",
     "output_type": "stream",
     "text": [
      "0.12 min\n"
     ]
    }
   ],
   "source": [
    "fo = '.\\\\pcp_1951a2021\\\\pcp_red_SPAIN_1951-202.feather'\n",
    "\n",
    "t0 = time.time()\n",
    "df.to_feather(fo)\n",
    "t1 = (time.time() - t0) / 60.\n",
    "print(f'{t1:0.2f} min')"
   ]
  },
  {
   "cell_type": "markdown",
   "id": "46127025-af2a-40e4-ba31-8c1b57d52f02",
   "metadata": {},
   "source": [
    "### Test reading some columns"
   ]
  },
  {
   "cell_type": "code",
   "execution_count": 39,
   "id": "eb61802d-8957-4596-8b68-fe55cd00076c",
   "metadata": {},
   "outputs": [
    {
     "name": "stdout",
     "output_type": "stream",
     "text": [
      "0.01 min\n"
     ]
    }
   ],
   "source": [
    "f = '.\\\\pcp_1951a2021\\\\pcp_red_SPAIN_1951-202.parquet'\n",
    "columns_to_include = ['0', '1', '4000']\n",
    "\n",
    "t0 = time.time()\n",
    "df = pd.read_parquet(f, columns=columns_to_include)\n",
    "t1 = (time.time() - t0) / 60.\n",
    "print(f'{t1:0.2f} min')"
   ]
  },
  {
   "cell_type": "code",
   "execution_count": 40,
   "id": "84dddcd5-4be5-4177-b66f-4e120fbf009f",
   "metadata": {},
   "outputs": [
    {
     "name": "stdout",
     "output_type": "stream",
     "text": [
      "0.00 min\n"
     ]
    }
   ],
   "source": [
    "f = '.\\\\pcp_1951a2021\\\\pcp_red_SPAIN_1951-202.feather'\n",
    "columns_to_include = ['0', '1', '4000']\n",
    "\n",
    "t0 = time.time()\n",
    "df = pd.read_feather(f, columns=columns_to_include)\n",
    "t1 = (time.time() - t0) / 60.\n",
    "print(f'{t1:0.2f} min')"
   ]
  },
  {
   "cell_type": "markdown",
   "id": "885ddc57-6de9-4358-a39a-33e5adae6f95",
   "metadata": {},
   "source": [
    "## Read geo file of daily Tmin provided by AEMET and save to parquet format\n",
    "### Read Daily Tmin"
   ]
  },
  {
   "cell_type": "code",
   "execution_count": 19,
   "id": "0e969372-69cd-4e41-b2e0-e0ebe71ac3f2",
   "metadata": {},
   "outputs": [
    {
     "name": "stdout",
     "output_type": "stream",
     "text": [
      "0.02 min\n"
     ]
    }
   ],
   "source": [
    "t0 = time.time()\n",
    "f = '.\\\\tmin_1951a2021_txt\\\\tmin_red_SPAIN_1951-2021.geo'\n",
    "\n",
    "df = pd.read_csv(f, delim_whitespace=True, header=None, parse_dates=[0], engine='c', dtype=float32_cols, nrows=5)\n",
    "t1 = (time.time() - t0) / 60.\n",
    "print(f'{t1:0.2f} min')"
   ]
  },
  {
   "cell_type": "code",
   "execution_count": 20,
   "id": "8c790cea-4a7e-4475-b6a4-1eeda9697c16",
   "metadata": {},
   "outputs": [
    {
     "data": {
      "text/html": [
       "<div>\n",
       "<style scoped>\n",
       "    .dataframe tbody tr th:only-of-type {\n",
       "        vertical-align: middle;\n",
       "    }\n",
       "\n",
       "    .dataframe tbody tr th {\n",
       "        vertical-align: top;\n",
       "    }\n",
       "\n",
       "    .dataframe thead th {\n",
       "        text-align: right;\n",
       "    }\n",
       "</style>\n",
       "<table border=\"1\" class=\"dataframe\">\n",
       "  <thead>\n",
       "    <tr style=\"text-align: right;\">\n",
       "      <th></th>\n",
       "      <th>0</th>\n",
       "      <th>1</th>\n",
       "      <th>2</th>\n",
       "      <th>3</th>\n",
       "      <th>4</th>\n",
       "      <th>5</th>\n",
       "      <th>6</th>\n",
       "      <th>7</th>\n",
       "      <th>8</th>\n",
       "      <th>9</th>\n",
       "      <th>...</th>\n",
       "      <th>16147</th>\n",
       "      <th>16148</th>\n",
       "      <th>16149</th>\n",
       "      <th>16150</th>\n",
       "      <th>16151</th>\n",
       "      <th>16152</th>\n",
       "      <th>16153</th>\n",
       "      <th>16154</th>\n",
       "      <th>16155</th>\n",
       "      <th>16156</th>\n",
       "    </tr>\n",
       "  </thead>\n",
       "  <tbody>\n",
       "    <tr>\n",
       "      <th>0</th>\n",
       "      <td>1951-01-01</td>\n",
       "      <td>5.62</td>\n",
       "      <td>8.71</td>\n",
       "      <td>7.75</td>\n",
       "      <td>7.59</td>\n",
       "      <td>8.12</td>\n",
       "      <td>8.28</td>\n",
       "      <td>7.46</td>\n",
       "      <td>7.25</td>\n",
       "      <td>6.87</td>\n",
       "      <td>...</td>\n",
       "      <td>6.09</td>\n",
       "      <td>6.31</td>\n",
       "      <td>6.56</td>\n",
       "      <td>6.84</td>\n",
       "      <td>6.81</td>\n",
       "      <td>7.15</td>\n",
       "      <td>7.50</td>\n",
       "      <td>7.15</td>\n",
       "      <td>7.18</td>\n",
       "      <td>7.93</td>\n",
       "    </tr>\n",
       "    <tr>\n",
       "      <th>1</th>\n",
       "      <td>1951-01-02</td>\n",
       "      <td>8.35</td>\n",
       "      <td>10.82</td>\n",
       "      <td>10.01</td>\n",
       "      <td>9.79</td>\n",
       "      <td>10.32</td>\n",
       "      <td>10.70</td>\n",
       "      <td>9.85</td>\n",
       "      <td>9.57</td>\n",
       "      <td>9.10</td>\n",
       "      <td>...</td>\n",
       "      <td>4.32</td>\n",
       "      <td>4.48</td>\n",
       "      <td>4.66</td>\n",
       "      <td>4.91</td>\n",
       "      <td>5.10</td>\n",
       "      <td>5.38</td>\n",
       "      <td>5.70</td>\n",
       "      <td>5.32</td>\n",
       "      <td>5.32</td>\n",
       "      <td>6.01</td>\n",
       "    </tr>\n",
       "    <tr>\n",
       "      <th>2</th>\n",
       "      <td>1951-01-03</td>\n",
       "      <td>7.55</td>\n",
       "      <td>8.80</td>\n",
       "      <td>7.67</td>\n",
       "      <td>7.52</td>\n",
       "      <td>8.08</td>\n",
       "      <td>8.21</td>\n",
       "      <td>7.39</td>\n",
       "      <td>7.14</td>\n",
       "      <td>6.77</td>\n",
       "      <td>...</td>\n",
       "      <td>3.80</td>\n",
       "      <td>4.02</td>\n",
       "      <td>4.24</td>\n",
       "      <td>4.52</td>\n",
       "      <td>4.52</td>\n",
       "      <td>4.86</td>\n",
       "      <td>5.21</td>\n",
       "      <td>4.86</td>\n",
       "      <td>4.89</td>\n",
       "      <td>5.64</td>\n",
       "    </tr>\n",
       "    <tr>\n",
       "      <th>3</th>\n",
       "      <td>1951-01-04</td>\n",
       "      <td>6.57</td>\n",
       "      <td>8.47</td>\n",
       "      <td>7.32</td>\n",
       "      <td>7.22</td>\n",
       "      <td>7.79</td>\n",
       "      <td>7.72</td>\n",
       "      <td>6.94</td>\n",
       "      <td>6.75</td>\n",
       "      <td>6.50</td>\n",
       "      <td>...</td>\n",
       "      <td>5.25</td>\n",
       "      <td>5.47</td>\n",
       "      <td>5.69</td>\n",
       "      <td>5.94</td>\n",
       "      <td>6.22</td>\n",
       "      <td>6.60</td>\n",
       "      <td>6.91</td>\n",
       "      <td>6.50</td>\n",
       "      <td>6.47</td>\n",
       "      <td>7.19</td>\n",
       "    </tr>\n",
       "    <tr>\n",
       "      <th>4</th>\n",
       "      <td>1951-01-05</td>\n",
       "      <td>6.72</td>\n",
       "      <td>9.87</td>\n",
       "      <td>8.84</td>\n",
       "      <td>8.72</td>\n",
       "      <td>9.22</td>\n",
       "      <td>9.34</td>\n",
       "      <td>8.53</td>\n",
       "      <td>8.28</td>\n",
       "      <td>8.00</td>\n",
       "      <td>...</td>\n",
       "      <td>8.22</td>\n",
       "      <td>8.47</td>\n",
       "      <td>8.69</td>\n",
       "      <td>8.97</td>\n",
       "      <td>9.12</td>\n",
       "      <td>9.50</td>\n",
       "      <td>9.87</td>\n",
       "      <td>9.47</td>\n",
       "      <td>9.47</td>\n",
       "      <td>10.25</td>\n",
       "    </tr>\n",
       "  </tbody>\n",
       "</table>\n",
       "<p>5 rows × 16157 columns</p>\n",
       "</div>"
      ],
      "text/plain": [
       "       0      1      2      3      4      5      6      7      8      9      \\\n",
       "0 1951-01-01   5.62   8.71   7.75   7.59   8.12   8.28   7.46   7.25   6.87   \n",
       "1 1951-01-02   8.35  10.82  10.01   9.79  10.32  10.70   9.85   9.57   9.10   \n",
       "2 1951-01-03   7.55   8.80   7.67   7.52   8.08   8.21   7.39   7.14   6.77   \n",
       "3 1951-01-04   6.57   8.47   7.32   7.22   7.79   7.72   6.94   6.75   6.50   \n",
       "4 1951-01-05   6.72   9.87   8.84   8.72   9.22   9.34   8.53   8.28   8.00   \n",
       "\n",
       "   ...  16147  16148  16149  16150  16151  16152  16153  16154  16155  16156  \n",
       "0  ...   6.09   6.31   6.56   6.84   6.81   7.15   7.50   7.15   7.18   7.93  \n",
       "1  ...   4.32   4.48   4.66   4.91   5.10   5.38   5.70   5.32   5.32   6.01  \n",
       "2  ...   3.80   4.02   4.24   4.52   4.52   4.86   5.21   4.86   4.89   5.64  \n",
       "3  ...   5.25   5.47   5.69   5.94   6.22   6.60   6.91   6.50   6.47   7.19  \n",
       "4  ...   8.22   8.47   8.69   8.97   9.12   9.50   9.87   9.47   9.47  10.25  \n",
       "\n",
       "[5 rows x 16157 columns]"
      ]
     },
     "execution_count": 20,
     "metadata": {},
     "output_type": "execute_result"
    }
   ],
   "source": [
    "df.head()"
   ]
  },
  {
   "cell_type": "code",
   "execution_count": 21,
   "id": "095e61dd-1c3f-42eb-ba8e-0090f802630c",
   "metadata": {},
   "outputs": [
    {
     "name": "stdout",
     "output_type": "stream",
     "text": [
      "317 µs ± 31 µs per loop (mean ± std. dev. of 7 runs, 1,000 loops each)\n"
     ]
    }
   ],
   "source": [
    "%%timeit\n",
    "df.columns = df.columns.astype(str)"
   ]
  },
  {
   "cell_type": "code",
   "execution_count": 22,
   "id": "187c5285-d9eb-49f9-b1d9-d358c701c20e",
   "metadata": {},
   "outputs": [
    {
     "name": "stdout",
     "output_type": "stream",
     "text": [
      "7.68 min\n"
     ]
    }
   ],
   "source": [
    "f = '.\\\\tmin_1951a2021_txt\\\\tmin_red_SPAIN_1951-2021.geo'\n",
    "\n",
    "t0 = time.time()\n",
    "df = pd.read_csv(f, delim_whitespace=True, header=None, parse_dates=[0], engine='c', dtype=float32_cols)\n",
    "t1 = (time.time() - t0) / 60.\n",
    "print(f'{t1:0.2f} min')"
   ]
  },
  {
   "cell_type": "markdown",
   "id": "e446e734-c51a-4d45-8ec6-4eef3eb8bf80",
   "metadata": {},
   "source": [
    "### Save to parquet"
   ]
  },
  {
   "cell_type": "code",
   "execution_count": 15,
   "id": "0bec3646-6216-4e99-a945-8c2cd2143519",
   "metadata": {},
   "outputs": [
    {
     "name": "stdout",
     "output_type": "stream",
     "text": [
      "0.39 min\n"
     ]
    }
   ],
   "source": [
    "fo = '.\\\\tmin_1951a2021_txt\\\\tmin_red_SPAIN_1951-2021.parquet'\n",
    "\n",
    "t0 = time.time()\n",
    "df.to_parquet(fo, engine = 'fastparquet')\n",
    "t1 = (time.time() - t0) / 60.\n",
    "print(f'{t1:0.2f} min')\n"
   ]
  },
  {
   "cell_type": "markdown",
   "id": "c4d88986-dea8-475d-8c4b-270c3e3a10ed",
   "metadata": {},
   "source": [
    "### Read parquet selected columns"
   ]
  },
  {
   "cell_type": "code",
   "execution_count": 24,
   "id": "85871a27-ef44-4cd6-896d-59c762c3c988",
   "metadata": {},
   "outputs": [
    {
     "name": "stdout",
     "output_type": "stream",
     "text": [
      "0.01 min\n"
     ]
    }
   ],
   "source": [
    "f = '.\\\\tmin_1951a2021_txt\\\\tmin_red_SPAIN_1951-2021.parquet'\n",
    "columns_to_include = ['0', '1', '4000']\n",
    "\n",
    "t0 = time.time()\n",
    "df = pd.read_parquet(f, columns=columns_to_include)\n",
    "t1 = (time.time() - t0) / 60.\n",
    "print(f'{t1:0.2f} min')"
   ]
  },
  {
   "cell_type": "code",
   "execution_count": 26,
   "id": "44a6b5e7-0f44-4b82-8315-d490cf021dd8",
   "metadata": {},
   "outputs": [
    {
     "data": {
      "text/html": [
       "<div>\n",
       "<style scoped>\n",
       "    .dataframe tbody tr th:only-of-type {\n",
       "        vertical-align: middle;\n",
       "    }\n",
       "\n",
       "    .dataframe tbody tr th {\n",
       "        vertical-align: top;\n",
       "    }\n",
       "\n",
       "    .dataframe thead th {\n",
       "        text-align: right;\n",
       "    }\n",
       "</style>\n",
       "<table border=\"1\" class=\"dataframe\">\n",
       "  <thead>\n",
       "    <tr style=\"text-align: right;\">\n",
       "      <th></th>\n",
       "      <th>0</th>\n",
       "      <th>1</th>\n",
       "      <th>4000</th>\n",
       "    </tr>\n",
       "  </thead>\n",
       "  <tbody>\n",
       "    <tr>\n",
       "      <th>0</th>\n",
       "      <td>1951-01-01</td>\n",
       "      <td>5.62</td>\n",
       "      <td>1.59</td>\n",
       "    </tr>\n",
       "    <tr>\n",
       "      <th>1</th>\n",
       "      <td>1951-01-02</td>\n",
       "      <td>8.35</td>\n",
       "      <td>2.82</td>\n",
       "    </tr>\n",
       "    <tr>\n",
       "      <th>2</th>\n",
       "      <td>1951-01-03</td>\n",
       "      <td>7.55</td>\n",
       "      <td>1.17</td>\n",
       "    </tr>\n",
       "    <tr>\n",
       "      <th>3</th>\n",
       "      <td>1951-01-04</td>\n",
       "      <td>6.57</td>\n",
       "      <td>-0.56</td>\n",
       "    </tr>\n",
       "    <tr>\n",
       "      <th>4</th>\n",
       "      <td>1951-01-05</td>\n",
       "      <td>6.72</td>\n",
       "      <td>-0.00</td>\n",
       "    </tr>\n",
       "  </tbody>\n",
       "</table>\n",
       "</div>"
      ],
      "text/plain": [
       "           0     1  4000\n",
       "0 1951-01-01  5.62  1.59\n",
       "1 1951-01-02  8.35  2.82\n",
       "2 1951-01-03  7.55  1.17\n",
       "3 1951-01-04  6.57 -0.56\n",
       "4 1951-01-05  6.72 -0.00"
      ]
     },
     "execution_count": 26,
     "metadata": {},
     "output_type": "execute_result"
    }
   ],
   "source": [
    "df.head()"
   ]
  },
  {
   "cell_type": "markdown",
   "id": "c22b291b-25c0-4682-b6df-7653f8fbd6c0",
   "metadata": {},
   "source": [
    "## Read geo file of daily Tmax provided by AEMET and save to parquet format\n",
    "### Read Daily Tmax"
   ]
  },
  {
   "cell_type": "code",
   "execution_count": 27,
   "id": "daaa7d3e-e158-40b7-b0f8-d6998c6fb403",
   "metadata": {},
   "outputs": [
    {
     "name": "stdout",
     "output_type": "stream",
     "text": [
      "7.38 min\n"
     ]
    }
   ],
   "source": [
    "f = '.\\\\tmax_1951a2021\\\\tmax_red_SPAIN_1951-2021.geo'\n",
    "\n",
    "t0 = time.time()\n",
    "df = pd.read_csv(f, delim_whitespace=True, header=None, parse_dates=[0], engine='c', dtype=float32_cols)\n",
    "df.columns = df.columns.astype(str)\n",
    "t1 = (time.time() - t0) / 60.\n",
    "print(f'{t1:0.2f} min')"
   ]
  },
  {
   "cell_type": "markdown",
   "id": "da14047f-a93b-4ad7-be34-3b274f30e3a1",
   "metadata": {},
   "source": [
    "### Save Tmax df to parquet"
   ]
  },
  {
   "cell_type": "code",
   "execution_count": 28,
   "id": "d6e3a9a0-ab4c-4fd6-ba54-8cbdb325e53b",
   "metadata": {},
   "outputs": [
    {
     "name": "stdout",
     "output_type": "stream",
     "text": [
      "0.44 min\n"
     ]
    }
   ],
   "source": [
    "fo = '.\\\\tmax_1951a2021\\\\tmax_red_SPAIN_1951-2021.parquet'\n",
    "\n",
    "t0 = time.time()\n",
    "df.to_parquet(fo, engine = 'fastparquet')\n",
    "t1 = (time.time() - t0) / 60.\n",
    "print(f'{t1:0.2f} min')"
   ]
  },
  {
   "cell_type": "markdown",
   "id": "5c00f348-20d7-421a-a549-8c015292f922",
   "metadata": {},
   "source": [
    "### Test reading some columns"
   ]
  },
  {
   "cell_type": "code",
   "execution_count": 29,
   "id": "19a11cf5-98a7-46b5-adb2-2c51442dac09",
   "metadata": {},
   "outputs": [
    {
     "name": "stdout",
     "output_type": "stream",
     "text": [
      "0.01 min\n"
     ]
    }
   ],
   "source": [
    "f = '.\\\\tmax_1951a2021\\\\tmax_red_SPAIN_1951-2021.parquet'\n",
    "columns_to_include = ['0', '1', '4000']\n",
    "\n",
    "t0 = time.time()\n",
    "df = pd.read_parquet(f, columns=columns_to_include)\n",
    "t1 = (time.time() - t0) / 60.\n",
    "print(f'{t1:0.2f} min')"
   ]
  },
  {
   "cell_type": "code",
   "execution_count": 30,
   "id": "66155bd3-1e26-454d-a408-304288585727",
   "metadata": {},
   "outputs": [
    {
     "name": "stdout",
     "output_type": "stream",
     "text": [
      "<class 'pandas.core.frame.DataFrame'>\n",
      "RangeIndex: 25933 entries, 0 to 25932\n",
      "Data columns (total 3 columns):\n",
      " #   Column  Non-Null Count  Dtype         \n",
      "---  ------  --------------  -----         \n",
      " 0   0       25933 non-null  datetime64[ns]\n",
      " 1   1       25933 non-null  float32       \n",
      " 2   4000    25933 non-null  float32       \n",
      "dtypes: datetime64[ns](1), float32(2)\n",
      "memory usage: 405.3 KB\n"
     ]
    }
   ],
   "source": [
    "df.info()"
   ]
  },
  {
   "cell_type": "code",
   "execution_count": null,
   "id": "015fe691-bd19-4621-8ad9-1135230c7afe",
   "metadata": {},
   "outputs": [],
   "source": []
  }
 ],
 "metadata": {
  "kernelspec": {
   "display_name": "Python 3 (ipykernel)",
   "language": "python",
   "name": "python3"
  },
  "language_info": {
   "codemirror_mode": {
    "name": "ipython",
    "version": 3
   },
   "file_extension": ".py",
   "mimetype": "text/x-python",
   "name": "python",
   "nbconvert_exporter": "python",
   "pygments_lexer": "ipython3",
   "version": "3.8.16"
  }
 },
 "nbformat": 4,
 "nbformat_minor": 5
}
