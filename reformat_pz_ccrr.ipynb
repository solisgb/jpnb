{
 "cells": [
  {
   "cell_type": "markdown",
   "metadata": {},
   "source": [
    "# Reformatea pz CRCC"
   ]
  },
  {
   "cell_type": "code",
   "execution_count": 1,
   "metadata": {},
   "outputs": [],
   "source": [
    "import pandas as pd\n",
    "import numpy as np"
   ]
  },
  {
   "cell_type": "markdown",
   "metadata": {},
   "source": [
    "## Octubre 2019-septiembre 2020"
   ]
  },
  {
   "cell_type": "code",
   "execution_count": 24,
   "metadata": {},
   "outputs": [],
   "source": [
    "# file names\n",
    "fi = r'D:\\IGME20\\20201215_aquifer\\_data\\JLGA_20210217\\CRCC\\INFORME_SEPTIEMBRE_2020.xlsx'\n",
    "sheet_name = 'Pz1920'\n",
    "foname = r'D:\\IGME20\\20201215_aquifer\\_data\\JLGA_20210217\\CRCC\\pz_ah_201920.csv'"
   ]
  },
  {
   "cell_type": "code",
   "execution_count": 25,
   "metadata": {},
   "outputs": [
    {
     "name": "stdout",
     "output_type": "stream",
     "text": [
      "<class 'pandas.core.frame.DataFrame'>\n",
      "RangeIndex: 131 entries, 0 to 130\n",
      "Data columns (total 14 columns):\n",
      " #   Column       Non-Null Count  Dtype  \n",
      "---  ------       --------------  -----  \n",
      " 0   gid          131 non-null    int64  \n",
      " 1   10           116 non-null    float64\n",
      " 2   11           114 non-null    float64\n",
      " 3   12           110 non-null    float64\n",
      " 4   01           94 non-null     float64\n",
      " 5   02           104 non-null    float64\n",
      " 6   03           93 non-null     float64\n",
      " 7   04           99 non-null     float64\n",
      " 8   05           96 non-null     float64\n",
      " 9   06           93 non-null     float64\n",
      " 10  07           103 non-null    float64\n",
      " 11  08           94 non-null     float64\n",
      " 12  09           101 non-null    float64\n",
      " 13  Unnamed: 13  0 non-null      float64\n",
      "dtypes: float64(13), int64(1)\n",
      "memory usage: 14.5 KB\n"
     ]
    }
   ],
   "source": [
    "# open Excel file\n",
    "df = pd.read_excel(fi, sheet_name=sheet_name, engine='openpyxl')\n",
    "df.info()"
   ]
  },
  {
   "cell_type": "code",
   "execution_count": 26,
   "metadata": {},
   "outputs": [
    {
     "data": {
      "text/plain": [
       "Index(['gid', '10', '11', '12', '01', '02', '03', '04', '05', '06', '07', '08',\n",
       "       '09', 'Unnamed: 13'],\n",
       "      dtype='object')"
      ]
     },
     "execution_count": 26,
     "metadata": {},
     "output_type": "execute_result"
    }
   ],
   "source": [
    "df.columns"
   ]
  },
  {
   "cell_type": "code",
   "execution_count": 29,
   "metadata": {},
   "outputs": [
    {
     "name": "stdout",
     "output_type": "stream",
     "text": [
      "D:\\IGME20\\20201215_aquifer\\_data\\JLGA_20210217\\CRCC\\pz_ah_201920.csv\n"
     ]
    }
   ],
   "source": [
    "columns = [col for col in df.columns]\n",
    "gid = [item for i, item in df[columns[0]].iteritems()] \n",
    "with open(foname, 'w') as fo: \n",
    "    fo.write(f'\"gid\",\"fecha\",\"pnp\"\\n')\n",
    "    for i, col1 in enumerate(df.columns[1:]):\n",
    "        if col1 in ('10', '11', '12'):\n",
    "            year = '2019-'\n",
    "        else:\n",
    "            year = '2020-'\n",
    "        date = year + str(col1) + '-15'\n",
    "        for j, item in df[col1].iteritems():\n",
    "            if not pd.isna(item):\n",
    "                fo.write(f'{gid[j]:d},{date},{item:0.2f}\\n')\n",
    "# data in file\n",
    "print(foname)"
   ]
  },
  {
   "cell_type": "markdown",
   "metadata": {},
   "source": [
    "## Febrero 2019-septiembre 2019"
   ]
  },
  {
   "cell_type": "code",
   "execution_count": 34,
   "metadata": {},
   "outputs": [],
   "source": [
    "# file names\n",
    "fi = r'D:\\IGME20\\20201215_aquifer\\_data\\JLGA_20210217\\CRCC\\Piezometria_feb_dic_2019.xlsx'\n",
    "sheet_name = 'Todos'\n",
    "foname = r'D:\\IGME20\\20201215_aquifer\\_data\\JLGA_20210217\\CRCC\\pz_feb_sep_2019.csv'"
   ]
  },
  {
   "cell_type": "code",
   "execution_count": 37,
   "metadata": {},
   "outputs": [
    {
     "name": "stdout",
     "output_type": "stream",
     "text": [
      "<class 'pandas.core.frame.DataFrame'>\n",
      "RangeIndex: 130 entries, 0 to 129\n",
      "Data columns (total 9 columns):\n",
      " #   Column  Non-Null Count  Dtype  \n",
      "---  ------  --------------  -----  \n",
      " 0   gid     130 non-null    int64  \n",
      " 1   2       22 non-null     float64\n",
      " 2   3       59 non-null     float64\n",
      " 3   4       69 non-null     float64\n",
      " 4   5       109 non-null    float64\n",
      " 5   6       104 non-null    float64\n",
      " 6   7       115 non-null    float64\n",
      " 7   8       97 non-null     float64\n",
      " 8   9       114 non-null    float64\n",
      "dtypes: float64(8), int64(1)\n",
      "memory usage: 9.3 KB\n"
     ]
    }
   ],
   "source": [
    "# open Excel file\n",
    "try:\n",
    "    df = pd.read_excel(fi, sheet_name=sheet_name, engine='openpyxl', usecols = 'A:I')\n",
    "    df.info()\n",
    "except Exception as e:\n",
    "    print(e)"
   ]
  },
  {
   "cell_type": "code",
   "execution_count": 38,
   "metadata": {},
   "outputs": [
    {
     "name": "stdout",
     "output_type": "stream",
     "text": [
      "D:\\IGME20\\20201215_aquifer\\_data\\JLGA_20210217\\CRCC\\pz_feb_sep_2019.csv\n"
     ]
    }
   ],
   "source": [
    "columns = [col for col in df.columns]\n",
    "gid = [item for i, item in df[columns[0]].iteritems()] \n",
    "with open(foname, 'w') as fo: \n",
    "    fo.write(f'\"gid\",\"fecha\",\"pnp\"\\n')\n",
    "    for i, col1 in enumerate(df.columns[1:]):\n",
    "        date = '2019-' + f'{col1:02d}' + '-15'\n",
    "        for j, item in df[col1].iteritems():\n",
    "            if not pd.isna(item):\n",
    "                fo.write(f'{gid[j]:d},{date},{item:0.2f}\\n')\n",
    "# data in file\n",
    "print(foname)"
   ]
  },
  {
   "cell_type": "code",
   "execution_count": 32,
   "metadata": {},
   "outputs": [
    {
     "data": {
      "text/plain": [
       "Index(['gid', 2, 3, 4, 5, 6, 7, 8, 9], dtype='object')"
      ]
     },
     "execution_count": 32,
     "metadata": {},
     "output_type": "execute_result"
    }
   ],
   "source": [
    "df.columns\n"
   ]
  }
 ],
 "metadata": {
  "kernelspec": {
   "display_name": "Python 3",
   "language": "python",
   "name": "python3"
  },
  "language_info": {
   "codemirror_mode": {
    "name": "ipython",
    "version": 3
   },
   "file_extension": ".py",
   "mimetype": "text/x-python",
   "name": "python",
   "nbconvert_exporter": "python",
   "pygments_lexer": "ipython3",
   "version": "3.8.5"
  }
 },
 "nbformat": 4,
 "nbformat_minor": 4
}
